{
  "cells": [
    {
      "cell_type": "code",
      "source": [],
      "outputs": [],
      "execution_count": null,
      "metadata": {
        "jupyter": {
          "source_hidden": false,
          "outputs_hidden": false
        },
        "noteable": {
          "cell_type": "code"
        }
      },
      "id": "ca1428e1-cd1c-43bf-8d1a-711a9b748406"
    },
    {
      "cell_type": "code",
      "source": [],
      "outputs": [],
      "execution_count": null,
      "metadata": {
        "jupyter": {
          "outputs_hidden": false,
          "source_hidden": false
        },
        "noteable": {
          "cell_type": "code"
        }
      },
      "id": "3299cd3e-c60f-4abc-ac7c-ab5c98f1f8b8"
    },
    {
      "cell_type": "code",
      "source": [
        "import pandas as pd\n",
        "df = pd.read_csv('pga_scoring_and_drive.csv')\n",
        "df.head()"
      ],
      "outputs": [
        {
          "output_type": "display_data",
          "data": {
            "application/vnd.dataresource+json": {
              "schema": {
                "fields": [
                  {
                    "name": "index",
                    "type": "integer"
                  },
                  {
                    "name": "player",
                    "type": "string"
                  },
                  {
                    "name": "year",
                    "type": "integer"
                  },
                  {
                    "name": "par_4_avg",
                    "type": "number"
                  },
                  {
                    "name": "par_5_avg",
                    "type": "number"
                  },
                  {
                    "name": "drive_avg",
                    "type": "number"
                  }
                ],
                "primaryKey": [
                  "index"
                ],
                "pandas_version": "1.4.0"
              },
              "data": [
                {
                  "index": 0,
                  "player": "Payne Stewart",
                  "year": 1987,
                  "par_4_avg": 3.98,
                  "par_5_avg": 4.65,
                  "drive_avg": 269.9
                },
                {
                  "index": 1,
                  "player": "Dan Pohl",
                  "year": 1987,
                  "par_4_avg": 3.98,
                  "par_5_avg": 4.63,
                  "drive_avg": 273
                },
                {
                  "index": 2,
                  "player": "Lanny Wadkins",
                  "year": 1987,
                  "par_4_avg": 3.97,
                  "par_5_avg": 4.74,
                  "drive_avg": 253.3
                },
                {
                  "index": 3,
                  "player": "Paul Azinger",
                  "year": 1987,
                  "par_4_avg": 3.98,
                  "par_5_avg": 4.63,
                  "drive_avg": 269.5
                },
                {
                  "index": 4,
                  "player": "David Frost",
                  "year": 1987,
                  "par_4_avg": 3.98,
                  "par_5_avg": 4.64,
                  "drive_avg": 259.2
                }
              ],
              "datalink": {
                "display_id": "42a271c4-870d-4d18-991e-f074498cc385"
              }
            }
          },
          "metadata": {
            "application/vnd.dataresource+json": {
              "datalink": {
                "dataframe_info": {
                  "default_index_used": true,
                  "orig_size_bytes": 240,
                  "orig_num_rows": 5,
                  "orig_num_cols": 5,
                  "truncated_string_columns": [],
                  "truncated_size_bytes": 240,
                  "truncated_num_rows": 5,
                  "truncated_num_cols": 5
                },
                "dx_settings": {
                  "NUM_PAST_SAMPLES_TRACKED": 3,
                  "ENABLE_DATALINK": true,
                  "DISPLAY_MODE": "simple",
                  "GENERATE_DEX_METADATA": false,
                  "STRINGIFY_INDEX_VALUES": false,
                  "ALLOW_NOTEABLE_ATTRS": true,
                  "DISPLAY_MAX_COLUMNS": 100,
                  "HTML_TABLE_SCHEMA": false,
                  "SAMPLING_FACTOR": 0.1,
                  "LOG_LEVEL": 30,
                  "ENABLE_ASSIGNMENT": true,
                  "FLATTEN_INDEX_VALUES": false,
                  "DEV_MODE": false,
                  "COLUMN_SAMPLING_METHOD": "outer",
                  "FLATTEN_COLUMN_VALUES": true,
                  "DISPLAY_MAX_ROWS": 50000,
                  "ROW_SAMPLING_METHOD": "random",
                  "RANDOM_STATE": 12648430,
                  "DB_LOCATION": ":memory:",
                  "STRINGIFY_COLUMN_VALUES": true,
                  "SAMPLING_METHOD": "random",
                  "MAX_STRING_LENGTH": 250,
                  "MAX_RENDER_SIZE_BYTES": 104857600,
                  "RESET_INDEX_VALUES": false
                },
                "display_id": "42a271c4-870d-4d18-991e-f074498cc385",
                "applied_filters": [],
                "sample_history": [],
                "sampling_time": "2023-05-31T21:10:07.089431",
                "variable_name": "unk_dataframe_9b3a110d7a284011aadd45d4e2780c65",
                "user_variable_name": null
              },
              "display_id": "42a271c4-870d-4d18-991e-f074498cc385"
            }
          }
        }
      ],
      "execution_count": null,
      "metadata": {
        "jupyter": {
          "outputs_hidden": false,
          "source_hidden": false
        },
        "noteable": {
          "cell_type": "code"
        },
        "ExecuteTime": {
          "end_time": "2023-05-31T21:10:07.248315+00:00",
          "start_time": "2023-05-31T21:10:07.045090+00:00"
        },
        "datalink": {
          "42a271c4-870d-4d18-991e-f074498cc385": {
            "applied_filters": [],
            "dataframe_info": {
              "default_index_used": true,
              "orig_num_cols": 5,
              "orig_num_rows": 5,
              "orig_size_bytes": 240,
              "truncated_num_cols": 5,
              "truncated_num_rows": 5,
              "truncated_size_bytes": 240,
              "truncated_string_columns": []
            },
            "display_id": "42a271c4-870d-4d18-991e-f074498cc385",
            "dx_settings": {
              "ALLOW_NOTEABLE_ATTRS": true,
              "COLUMN_SAMPLING_METHOD": "outer",
              "DB_LOCATION": ":memory:",
              "DEV_MODE": false,
              "DISPLAY_MAX_COLUMNS": 100,
              "DISPLAY_MAX_ROWS": 50000,
              "DISPLAY_MODE": "simple",
              "ENABLE_ASSIGNMENT": true,
              "ENABLE_DATALINK": true,
              "FLATTEN_COLUMN_VALUES": true,
              "FLATTEN_INDEX_VALUES": false,
              "GENERATE_DEX_METADATA": false,
              "HTML_TABLE_SCHEMA": false,
              "LOG_LEVEL": 30,
              "MAX_RENDER_SIZE_BYTES": 104857600,
              "MAX_STRING_LENGTH": 250,
              "NUM_PAST_SAMPLES_TRACKED": 3,
              "RANDOM_STATE": 12648430,
              "RESET_INDEX_VALUES": false,
              "ROW_SAMPLING_METHOD": "random",
              "SAMPLING_FACTOR": 0.1,
              "SAMPLING_METHOD": "random",
              "STRINGIFY_COLUMN_VALUES": true,
              "STRINGIFY_INDEX_VALUES": false
            },
            "sample_history": [],
            "sampling_time": "2023-05-31T21:10:07.089431",
            "user_variable_name": null,
            "variable_name": "unk_dataframe_9b3a110d7a284011aadd45d4e2780c65"
          }
        }
      },
      "id": "cbed92f3-713a-4c97-959b-91d9c72cc407"
    },
    {
      "cell_type": "code",
      "source": [
        "drive_avg_per_player = df.groupby('player')['drive_avg'].mean()\n",
        "drive_avg_per_player"
      ],
      "outputs": [
        {
          "output_type": "display_data",
          "data": {
            "application/vnd.dataresource+json": {
              "schema": {
                "fields": [
                  {
                    "name": "player",
                    "type": "string"
                  },
                  {
                    "name": "drive_avg",
                    "type": "number"
                  }
                ],
                "primaryKey": [
                  "player"
                ],
                "pandas_version": "1.4.0"
              },
              "data": [
                {
                  "player": "Aaron Baddeley",
                  "drive_avg": 290.54499999999996
                },
                {
                  "player": "Aaron Barber",
                  "drive_avg": 281.3
                },
                {
                  "player": "Aaron Bengoechea",
                  "drive_avg": 281.2
                },
                {
                  "player": "Aaron Rai",
                  "drive_avg": 293.85
                },
                {
                  "player": "Aaron Watkins",
                  "drive_avg": 277.1
                },
                {
                  "player": "Aaron Wise",
                  "drive_avg": 302.90000000000003
                },
                {
                  "player": "Abraham Ancer",
                  "drive_avg": 291.8
                },
                {
                  "player": "Adam Hadwin",
                  "drive_avg": 292.0444444444445
                },
                {
                  "player": "Adam Long",
                  "drive_avg": 290.68
                },
                {
                  "player": "Adam Schenk",
                  "drive_avg": 302.8333333333333
                },
                {
                  "player": "Adam Scott",
                  "drive_avg": 302.747619047619
                },
                {
                  "player": "Adam Svensson",
                  "drive_avg": 291.23333333333335
                },
                {
                  "player": "Aki Ohmachi",
                  "drive_avg": 257
                },
                {
                  "player": "Akio Sadakata",
                  "drive_avg": 283.3
                },
                {
                  "player": "Akshay Bhatia",
                  "drive_avg": 302.7
                },
                {
                  "player": "Alan Bratton",
                  "drive_avg": 268.8
                },
                {
                  "player": "Alejandro Cañizares",
                  "drive_avg": 287.1
                },
                {
                  "player": "Alex Aragon",
                  "drive_avg": 302.6
                },
                {
                  "player": "Alex Cejka",
                  "drive_avg": 283.40714285714284
                },
                {
                  "player": "Alex Noren",
                  "drive_avg": 298.90000000000003
                },
                {
                  "player": "Alex Prugh",
                  "drive_avg": 298.3
                },
                {
                  "player": "Alex Smalley",
                  "drive_avg": 304.05
                },
                {
                  "player": "Alexandre Rocha",
                  "drive_avg": 287.75
                },
                {
                  "player": "Alistair Presnell",
                  "drive_avg": 284.6
                },
                {
                  "player": "Allen Doyle",
                  "drive_avg": 256.79999999999995
                },
                {
                  "player": "Anders Albertson",
                  "drive_avg": 293.2
                },
                {
                  "player": "Anders Hansen",
                  "drive_avg": 280.7
                },
                {
                  "player": "Andre Stolz",
                  "drive_avg": 297.9
                },
                {
                  "player": "Andres Gonzales",
                  "drive_avg": 295.375
                },
                {
                  "player": "Andres Romero",
                  "drive_avg": 295.4125
                },
                {
                  "player": "Andrew Buckle",
                  "drive_avg": 294.7
                },
                {
                  "player": "Andrew Landry",
                  "drive_avg": 289.8666666666667
                },
                {
                  "player": "Andrew Loupe",
                  "drive_avg": 309.53333333333336
                },
                {
                  "player": "Andrew Magee",
                  "drive_avg": 275.48333333333335
                },
                {
                  "player": "Andrew McLardy",
                  "drive_avg": 286.79999999999995
                },
                {
                  "player": "Andrew Novak",
                  "drive_avg": 296.3
                },
                {
                  "player": "Andrew Putnam",
                  "drive_avg": 283.62857142857143
                },
                {
                  "player": "Andrew Svoboda",
                  "drive_avg": 288.2
                },
                {
                  "player": "Andrew Yun",
                  "drive_avg": 290.6
                },
                {
                  "player": "Andy Bean",
                  "drive_avg": 270.575
                },
                {
                  "player": "Andy Dillard",
                  "drive_avg": 263.1
                },
                {
                  "player": "Andy Miller",
                  "drive_avg": 293.3
                },
                {
                  "player": "Andy North",
                  "drive_avg": 261.03333333333336
                },
                {
                  "player": "Anirban Lahiri",
                  "drive_avg": 294.84285714285716
                },
                {
                  "player": "Anthony Kim",
                  "drive_avg": 299.125
                },
                {
                  "player": "Anthony Painter",
                  "drive_avg": 287.5
                },
                {
                  "player": "Anthony Rodriguez",
                  "drive_avg": 270.1
                },
                {
                  "player": "Antonio Cerda",
                  "drive_avg": 256.4
                },
                {
                  "player": "Arjun Atwal",
                  "drive_avg": 287.95
                },
                {
                  "player": "Aron Price",
                  "drive_avg": 282.2666666666667
                },
                {
                  "player": "Arron Oberholser",
                  "drive_avg": 284.74
                },
                {
                  "player": "Augusto Núñez",
                  "drive_avg": 309
                },
                {
                  "player": "Austin Cook",
                  "drive_avg": 289.05
                },
                {
                  "player": "Austin Eckroat",
                  "drive_avg": 298.6
                },
                {
                  "player": "Austin Smotherman",
                  "drive_avg": 301.45000000000005
                },
                {
                  "player": "Barry Cheesman",
                  "drive_avg": 280.48333333333335
                },
                {
                  "player": "Barry Jaeckel",
                  "drive_avg": 263.925
                },
                {
                  "player": "Bart Bryant",
                  "drive_avg": 270.825
                },
                {
                  "player": "Beau Hossler",
                  "drive_avg": 304.21666666666664
                },
                {
                  "player": "Ben Bates",
                  "drive_avg": 274.65
                },
                {
                  "player": "Ben Crane",
                  "drive_avg": 283.48125
                },
                {
                  "player": "Ben Crenshaw",
                  "drive_avg": 257.52
                },
                {
                  "player": "Ben Curtis",
                  "drive_avg": 278.90000000000003
                },
                {
                  "player": "Ben Ferguson",
                  "drive_avg": 279.1
                },
                {
                  "player": "Ben Griffin",
                  "drive_avg": 302
                },
                {
                  "player": "Ben Kohles",
                  "drive_avg": 283.15
                },
                {
                  "player": "Ben Martin",
                  "drive_avg": 289.94444444444446
                },
                {
                  "player": "Ben Silverman",
                  "drive_avg": 288.7
                },
                {
                  "player": "Ben Taylor",
                  "drive_avg": 297.73333333333335
                },
                {
                  "player": "Bernhard Langer",
                  "drive_avg": 273.3
                },
                {
                  "player": "Bill Britton",
                  "drive_avg": 255.2555555555556
                },
                {
                  "player": "Bill Buttner",
                  "drive_avg": 254.3
                },
                {
                  "player": "Bill Glasson",
                  "drive_avg": 275.6230769230769
                },
                {
                  "player": "Bill Haas",
                  "drive_avg": 294.71666666666664
                },
                {
                  "player": "Bill Lunde",
                  "drive_avg": 290.2
                },
                {
                  "player": "Bill Murchison",
                  "drive_avg": 252
                },
                {
                  "player": "Bill Porter",
                  "drive_avg": 257.3
                },
                {
                  "player": "Bill Rogers",
                  "drive_avg": 253.4
                },
                {
                  "player": "Bill Sander",
                  "drive_avg": 271.84999999999997
                },
                {
                  "player": "Billy Andrade",
                  "drive_avg": 269.8285714285715
                },
                {
                  "player": "Billy Horschel",
                  "drive_avg": 294.5846153846154
                },
                {
                  "player": "Billy Hurley III",
                  "drive_avg": 277.0833333333333
                },
                {
                  "player": "Billy Kratzert",
                  "drive_avg": 260.7
                },
                {
                  "player": "Billy Mayfair",
                  "drive_avg": 273.24583333333334
                },
                {
                  "player": "Billy Pierot",
                  "drive_avg": 258.9
                },
                {
                  "player": "Billy Ray Brown",
                  "drive_avg": 260.98
                },
                {
                  "player": "Billy Tuten",
                  "drive_avg": 248.7
                },
                {
                  "player": "Bio Kim",
                  "drive_avg": 296.1
                },
                {
                  "player": "Blaine McCallister",
                  "drive_avg": 267.8764705882353
                },
                {
                  "player": "Blake Adams",
                  "drive_avg": 290.59999999999997
                },
                {
                  "player": "Blayne Barber",
                  "drive_avg": 291.025
                },
                {
                  "player": "Bo Hoag",
                  "drive_avg": 293.43333333333334
                },
                {
                  "player": "Bo Van Pelt",
                  "drive_avg": 292.05625
                },
                {
                  "player": "Bob Burns",
                  "drive_avg": 272.2875
                },
                {
                  "player": "Bob Eastwood",
                  "drive_avg": 258.4
                },
                {
                  "player": "Bob Estes",
                  "drive_avg": 272.34999999999997
                },
                {
                  "player": "Bob Friend",
                  "drive_avg": 260.625
                },
                {
                  "player": "Bob Gilder",
                  "drive_avg": 262.3727272727273
                },
                {
                  "player": "Bob Heintz",
                  "drive_avg": 284.46
                },
                {
                  "player": "Bob Lohr",
                  "drive_avg": 253.14000000000001
                },
                {
                  "player": "Bob May",
                  "drive_avg": 276.1
                },
                {
                  "player": "Bob Murphy",
                  "drive_avg": 247.95
                },
                {
                  "player": "Bob Proben",
                  "drive_avg": 265.5
                },
                {
                  "player": "Bob Sowards",
                  "drive_avg": 287.9
                },
                {
                  "player": "Bob Tway",
                  "drive_avg": 271.79545454545456
                },
                {
                  "player": "Bob Wolcott",
                  "drive_avg": 260.9
                },
                {
                  "player": "Bobby Clampett",
                  "drive_avg": 261.8666666666666
                },
                {
                  "player": "Bobby Cochran",
                  "drive_avg": 275.7
                },
                {
                  "player": "Bobby Cole",
                  "drive_avg": 262
                },
                {
                  "player": "Bobby Gage",
                  "drive_avg": 262.7
                },
                {
                  "player": "Bobby Gates",
                  "drive_avg": 297.93333333333334
                },
                {
                  "player": "Bobby Wadkins",
                  "drive_avg": 264.9
                },
                {
                  "player": "Boo Weekley",
                  "drive_avg": 292.90833333333336
                },
                {
                  "player": "Brad Adamonis",
                  "drive_avg": 289.45
                },
                {
                  "player": "Brad Bell",
                  "drive_avg": 263.3
                },
                {
                  "player": "Brad Bryant",
                  "drive_avg": 268.05
                },
                {
                  "player": "Brad Elder",
                  "drive_avg": 283.48
                },
                {
                  "player": "Brad Fabel",
                  "drive_avg": 261.4166666666667
                },
                {
                  "player": "Brad Faxon",
                  "drive_avg": 265.66818181818184
                },
                {
                  "player": "Brad Fritsch",
                  "drive_avg": 293.23333333333335
                },
                {
                  "player": "Brad Greer",
                  "drive_avg": 274.3
                },
                {
                  "player": "Brad Lardon",
                  "drive_avg": 263.5
                },
                {
                  "player": "Bradley Hughes",
                  "drive_avg": 278.7
                },
                {
                  "player": "Brady Schnell",
                  "drive_avg": 283.3
                },
                {
                  "player": "Brandel Chamblee",
                  "drive_avg": 265.2076923076923
                },
                {
                  "player": "Branden Grace",
                  "drive_avg": 295.5857142857143
                },
                {
                  "player": "Brandon Hagy",
                  "drive_avg": 313.75
                },
                {
                  "player": "Brandon Harkins",
                  "drive_avg": 303.70000000000005
                },
                {
                  "player": "Brandon Matthews",
                  "drive_avg": 321.4
                },
                {
                  "player": "Brandon Wu",
                  "drive_avg": 294.45000000000005
                },
                {
                  "player": "Brandt Jobe",
                  "drive_avg": 291.76363636363635
                },
                {
                  "player": "Brandt Snedeker",
                  "drive_avg": 285.54375
                },
                {
                  "player": "Brendan Jones",
                  "drive_avg": 301.5
                },
                {
                  "player": "Brendan Steele",
                  "drive_avg": 300.5230769230769
                },
                {
                  "player": "Brenden Pappas",
                  "drive_avg": 297
                },
                {
                  "player": "Brendon Todd",
                  "drive_avg": 279.5777777777778
                },
                {
                  "player": "Brendon de Jonge",
                  "drive_avg": 288.2888888888889
                },
                {
                  "player": "Brent Delahoussaye",
                  "drive_avg": 275.6
                },
                {
                  "player": "Brent Geiberger",
                  "drive_avg": 281.53000000000003
                },
                {
                  "player": "Brent Grant",
                  "drive_avg": 309.5
                },
                {
                  "player": "Brent Schwarzrock",
                  "drive_avg": 290.79999999999995
                },
                {
                  "player": "Brett Drewitt",
                  "drive_avg": 291.15
                },
                {
                  "player": "Brett Ogle",
                  "drive_avg": 276.6333333333333
                },
                {
                  "player": "Brett Quigley",
                  "drive_avg": 285.81428571428575
                },
                {
                  "player": "Brett Rumford",
                  "drive_avg": 282.7
                },
                {
                  "player": "Brett Stegmaier",
                  "drive_avg": 293.1333333333333
                },
                {
                  "player": "Brett Upper",
                  "drive_avg": 256.6
                },
                {
                  "player": "Brett Wetterich",
                  "drive_avg": 304.56
                },
                {
                  "player": "Brian Bateman",
                  "drive_avg": 292.3
                },
                {
                  "player": "Brian Campbell",
                  "drive_avg": 296
                },
                {
                  "player": "Brian Claar",
                  "drive_avg": 256.93333333333334
                },
                {
                  "player": "Brian Davis",
                  "drive_avg": 280.04545454545456
                },
                {
                  "player": "Brian Gay",
                  "drive_avg": 274.3952380952381
                },
                {
                  "player": "Brian Harman",
                  "drive_avg": 290.55833333333334
                },
                {
                  "player": "Brian Henninger",
                  "drive_avg": 273.44545454545454
                },
                {
                  "player": "Brian Kamm",
                  "drive_avg": 265.34285714285716
                },
                {
                  "player": "Brian Kortan",
                  "drive_avg": 292.4
                },
                {
                  "player": "Brian Mogg",
                  "drive_avg": 260.7
                },
                {
                  "player": "Brian Stuard",
                  "drive_avg": 278.48333333333335
                },
                {
                  "player": "Brian Tennyson",
                  "drive_avg": 259.88
                },
                {
                  "player": "Brian Vranesh",
                  "drive_avg": 288.2
                },
                {
                  "player": "Brian Watts",
                  "drive_avg": 269.62
                },
                {
                  "player": "Brian Wilson",
                  "drive_avg": 288.8
                },
                {
                  "player": "Brice Garnett",
                  "drive_avg": 290.0875
                },
                {
                  "player": "Briny Baird",
                  "drive_avg": 285.1
                },
                {
                  "player": "Bronson Burgoon",
                  "drive_avg": 297.08000000000004
                },
                {
                  "player": "Bronson La'Cassie",
                  "drive_avg": 284.9
                },
                {
                  "player": "Brooks Koepka",
                  "drive_avg": 308.9888888888889
                },
                {
                  "player": "Bruce Fleisher",
                  "drive_avg": 252.1
                },
                {
                  "player": "Bruce Lietzke",
                  "drive_avg": 264.26666666666665
                },
                {
                  "player": "Bruce Soulsby",
                  "drive_avg": 263.1
                },
                {
                  "player": "Bruce Vaughan",
                  "drive_avg": 270
                },
                {
                  "player": "Bruce Zabriski",
                  "drive_avg": 262.05
                },
                {
                  "player": "Bryan Gorman",
                  "drive_avg": 266
                },
                {
                  "player": "Bryan Norton",
                  "drive_avg": 259.3
                },
                {
                  "player": "Bryce Molder",
                  "drive_avg": 279.7
                },
                {
                  "player": "Bryson DeChambeau",
                  "drive_avg": 310.68
                },
                {
                  "player": "Bubba Dickerson",
                  "drive_avg": 298.85
                },
                {
                  "player": "Bubba Watson",
                  "drive_avg": 311.9625
                },
                {
                  "player": "Bud Cauley",
                  "drive_avg": 292.5285714285714
                },
                {
                  "player": "Buddy Gardner",
                  "drive_avg": 260.2857142857143
                },
                {
                  "player": "Byeong Hun An",
                  "drive_avg": 306.43333333333334
                },
                {
                  "player": "Byron Smith",
                  "drive_avg": 291.9
                },
                {
                  "player": "C.T. Pan",
                  "drive_avg": 290.81666666666666
                },
                {
                  "player": "Callum Tarren",
                  "drive_avg": 310.29999999999995
                },
                {
                  "player": "Calvin Peete",
                  "drive_avg": 248.825
                },
                {
                  "player": "Cam Davis",
                  "drive_avg": 309.08000000000004
                },
                {
                  "player": "Cameron Beckman",
                  "drive_avg": 285.4153846153846
                },
                {
                  "player": "Cameron Champ",
                  "drive_avg": 318.28000000000003
                },
                {
                  "player": "Cameron Percy",
                  "drive_avg": 291.79999999999995
                },
                {
                  "player": "Cameron Smith",
                  "drive_avg": 295.5571428571429
                },
                {
                  "player": "Cameron Tringale",
                  "drive_avg": 291.1230769230769
                },
                {
                  "player": "Cameron Yancey",
                  "drive_avg": 288.5
                },
                {
                  "player": "Cameron Young",
                  "drive_avg": 319.1
                },
                {
                  "player": "Camilo Villegas",
                  "drive_avg": 292.61428571428576
                },
                {
                  "player": "Carl Cooper",
                  "drive_avg": 268.06666666666666
                },
                {
                  "player": "Carl Paulson",
                  "drive_avg": 284.3333333333333
                },
                {
                  "player": "Carl Pettersson",
                  "drive_avg": 288.75
                },
                {
                  "player": "Carl Yuan",
                  "drive_avg": 305.2
                },
                {
                  "player": "Carlos Franco",
                  "drive_avg": 287.84444444444443
                },
                {
                  "player": "Carlos Ortiz",
                  "drive_avg": 300.8333333333333
                },
                {
                  "player": "Carson Young",
                  "drive_avg": 295.4
                },
                {
                  "player": "Casey Martin",
                  "drive_avg": 288.3
                },
                {
                  "player": "Casey Wittenberg",
                  "drive_avg": 282.75
                },
                {
                  "player": "Chad Campbell",
                  "drive_avg": 288.5352941176471
                },
                {
                  "player": "Chad Collins",
                  "drive_avg": 277.96666666666664
                },
                {
                  "player": "Chad Ramey",
                  "drive_avg": 289.4
                },
                {
                  "player": "Charl Schwartzel",
                  "drive_avg": 298.3777777777778
                },
                {
                  "player": "Charles Bolling",
                  "drive_avg": 257.6
                },
                {
                  "player": "Charles Howell III",
                  "drive_avg": 297.29090909090905
                },
                {
                  "player": "Charles Raulerson",
                  "drive_avg": 274.03333333333336
                },
                {
                  "player": "Charles Warren",
                  "drive_avg": 298.2285714285714
                },
                {
                  "player": "Charley Hoffman",
                  "drive_avg": 300.0777777777778
                },
                {
                  "player": "Charlie Beljan",
                  "drive_avg": 305.15
                },
                {
                  "player": "Charlie Bowles",
                  "drive_avg": 265.55
                },
                {
                  "player": "Charlie Rymer",
                  "drive_avg": 273.79999999999995
                },
                {
                  "player": "Charlie Wi",
                  "drive_avg": 284.34444444444443
                },
                {
                  "player": "Chase Seiffert",
                  "drive_avg": 290.6333333333333
                },
                {
                  "player": "Chase Wright",
                  "drive_avg": 299.1
                },
                {
                  "player": "Chesson Hadley",
                  "drive_avg": 296.3777777777778
                },
                {
                  "player": "Chez Reavie",
                  "drive_avg": 285.04285714285714
                },
                {
                  "player": "Chip Beck",
                  "drive_avg": 261.10714285714283
                },
                {
                  "player": "Chip Sullivan",
                  "drive_avg": 284.1
                },
                {
                  "player": "Chris Anderson",
                  "drive_avg": 278.9
                },
                {
                  "player": "Chris Baker",
                  "drive_avg": 290.7
                },
                {
                  "player": "Chris Couch",
                  "drive_avg": 297.2
                },
                {
                  "player": "Chris DiMarco",
                  "drive_avg": 276.3588235294118
                },
                {
                  "player": "Chris Kirk",
                  "drive_avg": 291.3454545454546
                },
                {
                  "player": "Chris Perry",
                  "drive_avg": 264.03846153846155
                },
                {
                  "player": "Chris Riley",
                  "drive_avg": 277.5692307692308
                },
                {
                  "player": "Chris Smith",
                  "drive_avg": 292.2888888888889
                },
                {
                  "player": "Chris Stroud",
                  "drive_avg": 287.1933333333333
                },
                {
                  "player": "Chris Tidland",
                  "drive_avg": 290
                },
                {
                  "player": "Chris Tucker",
                  "drive_avg": 265.5
                },
                {
                  "player": "Chris Wilson",
                  "drive_avg": 291.7
                },
                {
                  "player": "Christiaan Bezuidenhout",
                  "drive_avg": 290.45000000000005
                },
                {
                  "player": "Clarence Rose",
                  "drive_avg": 264.5777777777778
                },
                {
                  "player": "Clark Burroughs",
                  "drive_avg": 264.425
                },
                {
                  "player": "Clark Dennis",
                  "drive_avg": 260.55
                },
                {
                  "player": "Cliff Kresge",
                  "drive_avg": 283.0142857142857
                },
                {
                  "player": "Cody Freeman",
                  "drive_avg": 287.8
                },
                {
                  "player": "Cody Gribble",
                  "drive_avg": 298.825
                },
                {
                  "player": "Cole Hammer",
                  "drive_avg": 292.7
                },
                {
                  "player": "Collin Morikawa",
                  "drive_avg": 296.875
                },
                {
                  "player": "Colt Knost",
                  "drive_avg": 274.84999999999997
                },
                {
                  "player": "Conrad Shindler",
                  "drive_avg": 291.3
                },
                {
                  "player": "Corey Conners",
                  "drive_avg": 299.45
                },
                {
                  "player": "Corey Pavin",
                  "drive_avg": 255.9086956521739
                },
                {
                  "player": "Craig Barlow",
                  "drive_avg": 287.04
                },
                {
                  "player": "Craig Bowden",
                  "drive_avg": 267.54
                },
                {
                  "player": "Craig Kanada",
                  "drive_avg": 273.05
                },
                {
                  "player": "Craig Lile",
                  "drive_avg": 283.9
                },
                {
                  "player": "Craig Parry",
                  "drive_avg": 268.94545454545454
                },
                {
                  "player": "Craig Perks",
                  "drive_avg": 283.51666666666665
                },
                {
                  "player": "Craig Rudolph",
                  "drive_avg": 254.4
                },
                {
                  "player": "Craig Spence",
                  "drive_avg": 273.2
                },
                {
                  "player": "Craig Stadler",
                  "drive_avg": 272.2733333333333
                },
                {
                  "player": "Curt Byrum",
                  "drive_avg": 271.3125
                },
                {
                  "player": "Curtis Luck",
                  "drive_avg": 289.4
                },
                {
                  "player": "Curtis Strange",
                  "drive_avg": 257.89166666666665
                },
                {
                  "player": "Curtis Thompson",
                  "drive_avg": 309.2
                },
                {
                  "player": "D.A. Points",
                  "drive_avg": 283.59999999999997
                },
                {
                  "player": "D.A. Weibring",
                  "drive_avg": 256.5769230769231
                },
                {
                  "player": "D.H. Lee",
                  "drive_avg": 279.1666666666667
                },
                {
                  "player": "D.J. Brigman",
                  "drive_avg": 291.325
                },
                {
                  "player": "D.J. Trahan",
                  "drive_avg": 294.3363636363636
                },
                {
                  "player": "Daisuke Maruyama",
                  "drive_avg": 286.55
                },
                {
                  "player": "Dan Forsman",
                  "drive_avg": 273.0210526315789
                },
                {
                  "player": "Dan Halldorson",
                  "drive_avg": 261.81428571428575
                },
                {
                  "player": "Dan Olsen",
                  "drive_avg": 296
                },
                {
                  "player": "Dan Pohl",
                  "drive_avg": 273.74285714285713
                },
                {
                  "player": "Daniel Berger",
                  "drive_avg": 299
                },
                {
                  "player": "Daniel Chopra",
                  "drive_avg": 296.5125
                },
                {
                  "player": "Daniel Summerhays",
                  "drive_avg": 286.0375
                },
                {
                  "player": "Danny Briggs",
                  "drive_avg": 271.45
                },
                {
                  "player": "Danny Edwards",
                  "drive_avg": 254.5
                },
                {
                  "player": "Danny Ellis",
                  "drive_avg": 288.8333333333333
                },
                {
                  "player": "Danny Lee",
                  "drive_avg": 292.45454545454544
                },
                {
                  "player": "Danny Willett",
                  "drive_avg": 295.64
                },
                {
                  "player": "Darren Clarke",
                  "drive_avg": 296.95
                },
                {
                  "player": "Darron Stiles",
                  "drive_avg": 282.98
                },
                {
                  "player": "Dave Barr",
                  "drive_avg": 261.44545454545454
                },
                {
                  "player": "Dave Eichelberger",
                  "drive_avg": 267
                },
                {
                  "player": "Dave Peege",
                  "drive_avg": 249.55
                },
                {
                  "player": "Dave Rummells",
                  "drive_avg": 264.85
                },
                {
                  "player": "Dave Schreyer",
                  "drive_avg": 257.4
                },
                {
                  "player": "Dave Stockton",
                  "drive_avg": 244.6
                },
                {
                  "player": "Dave Stockton, Jr.",
                  "drive_avg": 273.15555555555557
                },
                {
                  "player": "David Berganio, Jr.",
                  "drive_avg": 281.56666666666666
                },
                {
                  "player": "David Branshaw",
                  "drive_avg": 287.56666666666666
                },
                {
                  "player": "David Canipe",
                  "drive_avg": 252.03333333333333
                },
                {
                  "player": "David Delong",
                  "drive_avg": 240.9
                },
                {
                  "player": "David Duval",
                  "drive_avg": 287.09230769230766
                },
                {
                  "player": "David Edwards",
                  "drive_avg": 253.9416666666667
                },
                {
                  "player": "David Feherty",
                  "drive_avg": 255.14999999999998
                },
                {
                  "player": "David Frost",
                  "drive_avg": 263.18888888888887
                },
                {
                  "player": "David Gossett",
                  "drive_avg": 284.23333333333335
                },
                {
                  "player": "David Graham",
                  "drive_avg": 264.7
                },
                {
                  "player": "David Hearn",
                  "drive_avg": 282.94166666666666
                },
                {
                  "player": "David Hobby",
                  "drive_avg": 254.9
                },
                {
                  "player": "David Howell",
                  "drive_avg": 289.1
                },
                {
                  "player": "David Jackson",
                  "drive_avg": 279.7
                },
                {
                  "player": "David Lingmerth",
                  "drive_avg": 286.15714285714284
                },
                {
                  "player": "David Lipsky",
                  "drive_avg": 292.85
                },
                {
                  "player": "David Lutterus",
                  "drive_avg": 289.9
                },
                {
                  "player": "David Lynn",
                  "drive_avg": 277.9
                },
                {
                  "player": "David Mathis",
                  "drive_avg": 280.375
                },
                {
                  "player": "David McKenzie",
                  "drive_avg": 284.4
                },
                {
                  "player": "David Morland IV",
                  "drive_avg": 274.825
                },
                {
                  "player": "David Ogrin",
                  "drive_avg": 255.63333333333333
                },
                {
                  "player": "David Peoples",
                  "drive_avg": 270.9533333333333
                },
                {
                  "player": "David Seawell",
                  "drive_avg": 278.8
                },
                {
                  "player": "David Skinns",
                  "drive_avg": 301.8
                },
                {
                  "player": "David Sutherland",
                  "drive_avg": 271.56666666666666
                },
                {
                  "player": "David Toms",
                  "drive_avg": 276.30833333333334
                },
                {
                  "player": "Davis Love III",
                  "drive_avg": 289.2964285714286
                },
                {
                  "player": "Davis Riley",
                  "drive_avg": 304.45000000000005
                },
                {
                  "player": "Davis Thompson",
                  "drive_avg": 309.8
                },
                {
                  "player": "Dawie van der Walt",
                  "drive_avg": 294.2
                },
                {
                  "player": "Dean Burmester",
                  "drive_avg": 312.1
                },
                {
                  "player": "Dean Wilson",
                  "drive_avg": 278.6111111111111
                },
                {
                  "player": "Deane Pappas",
                  "drive_avg": 288.425
                },
                {
                  "player": "Denis Watson",
                  "drive_avg": 261.275
                },
                {
                  "player": "Dennis Harrington",
                  "drive_avg": 261.1
                },
                {
                  "player": "Dennis Paulson",
                  "drive_avg": 288.9125
                },
                {
                  "player": "Dennis Trixler",
                  "drive_avg": 254.6
                },
                {
                  "player": "Denny Hepler",
                  "drive_avg": 271.2
                },
                {
                  "player": "Denny McCarthy",
                  "drive_avg": 293.5
                },
                {
                  "player": "Derek Ernst",
                  "drive_avg": 294.55
                },
                {
                  "player": "Derek Fathauer",
                  "drive_avg": 287.8
                },
                {
                  "player": "Derek Lamely",
                  "drive_avg": 293.6666666666667
                },
                {
                  "player": "Dewey Arnette",
                  "drive_avg": 263.85
                },
                {
                  "player": "Dick Mast",
                  "drive_avg": 257.42857142857144
                },
                {
                  "player": "Dicky Pride",
                  "drive_avg": 271.02000000000004
                },
                {
                  "player": "Dicky Thompson",
                  "drive_avg": 253
                },
                {
                  "player": "Dillard Pruitt",
                  "drive_avg": 257.2375
                },
                {
                  "player": "Doc Redman",
                  "drive_avg": 294.55
                },
                {
                  "player": "Dominic Bozzelli",
                  "drive_avg": 296.7
                },
                {
                  "player": "Don Pooley",
                  "drive_avg": 254.44444444444446
                },
                {
                  "player": "Don Reese",
                  "drive_avg": 256.35
                },
                {
                  "player": "Don Shirey, Jr.",
                  "drive_avg": 264.76666666666665
                },
                {
                  "player": "Donnie Hammond",
                  "drive_avg": 269.65333333333336
                },
                {
                  "player": "Doug Barron",
                  "drive_avg": 271.875
                },
                {
                  "player": "Doug Dunakey",
                  "drive_avg": 278.09999999999997
                },
                {
                  "player": "Doug Ghim",
                  "drive_avg": 294.875
                },
                {
                  "player": "Doug Johnson",
                  "drive_avg": 254
                },
                {
                  "player": "Doug LaBelle II",
                  "drive_avg": 279.43333333333334
                },
                {
                  "player": "Doug Martin",
                  "drive_avg": 254.67142857142858
                },
                {
                  "player": "Doug Tewell",
                  "drive_avg": 255.36666666666667
                },
                {
                  "player": "Doug Weaver",
                  "drive_avg": 276
                },
                {
                  "player": "Dudley Hart",
                  "drive_avg": 274.15625
                },
                {
                  "player": "Duffy Waldorf",
                  "drive_avg": 278.6333333333333
                },
                {
                  "player": "Dustin Johnson",
                  "drive_avg": 311.70714285714286
                },
                {
                  "player": "Dylan Frittelli",
                  "drive_avg": 300.86
                },
                {
                  "player": "Dylan Wu",
                  "drive_avg": 296.65
                },
                {
                  "player": "E.J. Pfister",
                  "drive_avg": 251.9
                },
                {
                  "player": "Ed Dougherty",
                  "drive_avg": 261.3125
                },
                {
                  "player": "Ed Fiori",
                  "drive_avg": 247.85555555555553
                },
                {
                  "player": "Ed Humenik",
                  "drive_avg": 273.4166666666667
                },
                {
                  "player": "Eddie Kirby",
                  "drive_avg": 249.6
                },
                {
                  "player": "Eddie Pearce",
                  "drive_avg": 258.1
                },
                {
                  "player": "Eduardo Herrera",
                  "drive_avg": 290
                },
                {
                  "player": "Edward Fryatt",
                  "drive_avg": 279.8
                },
                {
                  "player": "Edward Loar",
                  "drive_avg": 295.6
                },
                {
                  "player": "Emiliano Grillo",
                  "drive_avg": 297.3625
                },
                {
                  "player": "Emlyn Aubrey",
                  "drive_avg": 262.9875
                },
                {
                  "player": "Eric Axley",
                  "drive_avg": 287.86
                },
                {
                  "player": "Eric Booker",
                  "drive_avg": 272.95
                },
                {
                  "player": "Eric Cole",
                  "drive_avg": 297.4
                },
                {
                  "player": "Eric Johnson",
                  "drive_avg": 272.1
                },
                {
                  "player": "Eric Meierdierks",
                  "drive_avg": 301.9
                },
                {
                  "player": "Erik Barnes",
                  "drive_avg": 305.8
                },
                {
                  "player": "Erik Compton",
                  "drive_avg": 289.26
                },
                {
                  "player": "Erik van Rooyen",
                  "drive_avg": 302.1333333333333
                },
                {
                  "player": "Ernie Els",
                  "drive_avg": 287.25217391304346
                },
                {
                  "player": "Ernie Gonzalez",
                  "drive_avg": 266.9
                },
                {
                  "player": "Esteban Toledo",
                  "drive_avg": 263.775
                },
                {
                  "player": "Ethan Tracy",
                  "drive_avg": 299
                },
                {
                  "player": "Fabián Gómez",
                  "drive_avg": 287.6666666666667
                },
                {
                  "player": "Fran Quinn",
                  "drive_avg": 260.9
                },
                {
                  "player": "Francesco Molinari",
                  "drive_avg": 290.9
                },
                {
                  "player": "Frank Conner",
                  "drive_avg": 257.1666666666667
                },
                {
                  "player": "Frank Lickliter II",
                  "drive_avg": 278.03076923076924
                },
                {
                  "player": "Frank Nobilo",
                  "drive_avg": 270.5833333333333
                },
                {
                  "player": "Franklin Langham",
                  "drive_avg": 271.9428571428571
                },
                {
                  "player": "Fred Couples",
                  "drive_avg": 284.9136363636364
                },
                {
                  "player": "Fred Funk",
                  "drive_avg": 263.4263157894737
                },
                {
                  "player": "Fred Wadsworth",
                  "drive_avg": 264.65
                },
                {
                  "player": "Freddie Jacobson",
                  "drive_avg": 285.7692307692308
                },
                {
                  "player": "Fulton Allem",
                  "drive_avg": 261.3933333333333
                },
                {
                  "player": "Fuzzy Zoeller",
                  "drive_avg": 267.0076923076923
                },
                {
                  "player": "Gabriel Hjertstedt",
                  "drive_avg": 273.91999999999996
                },
                {
                  "player": "Garrett Willis",
                  "drive_avg": 281.32
                },
                {
                  "player": "Garrick Higgo",
                  "drive_avg": 304.85
                },
                {
                  "player": "Garth Mulroy",
                  "drive_avg": 294.65
                },
                {
                  "player": "Gary Christian",
                  "drive_avg": 281.9
                },
                {
                  "player": "Gary Hallberg",
                  "drive_avg": 267.6
                },
                {
                  "player": "Gary Koch",
                  "drive_avg": 258.725
                },
                {
                  "player": "Gary Krueger",
                  "drive_avg": 260.2
                },
                {
                  "player": "Gary Nicklaus",
                  "drive_avg": 273.09999999999997
                },
                {
                  "player": "Gary Rusnak",
                  "drive_avg": 261.6
                },
                {
                  "player": "Gary Woodland",
                  "drive_avg": 307.5571428571429
                },
                {
                  "player": "Gavin Coles",
                  "drive_avg": 269.94
                },
                {
                  "player": "Gene Jones",
                  "drive_avg": 254.7
                },
                {
                  "player": "Gene Sauers",
                  "drive_avg": 266.40769230769234
                },
                {
                  "player": "Geoff Ogilvy",
                  "drive_avg": 291.61764705882354
                },
                {
                  "player": "Geoffrey Sisk",
                  "drive_avg": 267.4
                },
                {
                  "player": "George Archer",
                  "drive_avg": 254.65
                },
                {
                  "player": "George Burns",
                  "drive_avg": 264.6
                },
                {
                  "player": "George McNeill",
                  "drive_avg": 290.52
                },
                {
                  "player": "Gil Morgan",
                  "drive_avg": 266.22999999999996
                },
                {
                  "player": "Glen Day",
                  "drive_avg": 272.59333333333336
                },
                {
                  "player": "Glen Hnatiuk",
                  "drive_avg": 271.4666666666667
                },
                {
                  "player": "Gonzalo Fernandez-Castaño",
                  "drive_avg": 289.8333333333333
                },
                {
                  "player": "Graeme McDowell",
                  "drive_avg": 283.82222222222225
                },
                {
                  "player": "Graham DeLaet",
                  "drive_avg": 301.38571428571424
                },
                {
                  "player": "Grant Waite",
                  "drive_avg": 274.97499999999997
                },
                {
                  "player": "Grayson Murray",
                  "drive_avg": 308.7
                },
                {
                  "player": "Greg Bruckner",
                  "drive_avg": 263.85
                },
                {
                  "player": "Greg Cesario",
                  "drive_avg": 251.4
                },
                {
                  "player": "Greg Chalmers",
                  "drive_avg": 281.03125
                },
                {
                  "player": "Greg Hickman",
                  "drive_avg": 266.95
                },
                {
                  "player": "Greg Kraft",
                  "drive_avg": 266.36
                },
                {
                  "player": "Greg Ladehoff",
                  "drive_avg": 269.3333333333333
                },
                {
                  "player": "Greg Lesher",
                  "drive_avg": 260.4
                },
                {
                  "player": "Greg Norman",
                  "drive_avg": 274.8
                },
                {
                  "player": "Greg Owen",
                  "drive_avg": 294.0888888888889
                },
                {
                  "player": "Greg Powers",
                  "drive_avg": 260.9
                },
                {
                  "player": "Greg Twiggs",
                  "drive_avg": 264.53333333333336
                },
                {
                  "player": "Greg Whisman",
                  "drive_avg": 272.45000000000005
                },
                {
                  "player": "Greyson Sigg",
                  "drive_avg": 293.9
                },
                {
                  "player": "Guy Boros",
                  "drive_avg": 270.96666666666664
                },
                {
                  "player": "Guy Hill",
                  "drive_avg": 265.9
                },
                {
                  "player": "Hal Sutton",
                  "drive_avg": 268.7117647058824
                },
                {
                  "player": "Hale Irwin",
                  "drive_avg": 252.5
                },
                {
                  "player": "Hank Kuehne",
                  "drive_avg": 314.5
                },
                {
                  "player": "Hank Lebioda",
                  "drive_avg": 294.71999999999997
                },
                {
                  "player": "Harold Varner III",
                  "drive_avg": 303.2857142857143
                },
                {
                  "player": "Harris English",
                  "drive_avg": 299.49090909090904
                },
                {
                  "player": "Harrison Endycott",
                  "drive_avg": 291.8
                },
                {
                  "player": "Harrison Frazar",
                  "drive_avg": 296.5142857142857
                },
                {
                  "player": "Harry Hall",
                  "drive_avg": 299.1
                },
                {
                  "player": "Harry Higgs",
                  "drive_avg": 300.55
                },
                {
                  "player": "Harry Taylor",
                  "drive_avg": 257.3
                },
                {
                  "player": "Hayden Buckley",
                  "drive_avg": 302.6
                },
                {
                  "player": "Heath Slocum",
                  "drive_avg": 279.2230769230769
                },
                {
                  "player": "Henrik Bjornstad",
                  "drive_avg": 292.45000000000005
                },
                {
                  "player": "Henrik Norlander",
                  "drive_avg": 291.75
                },
                {
                  "player": "Henrik Stenson",
                  "drive_avg": 291.5
                },
                {
                  "player": "Hideki Kase",
                  "drive_avg": 278.1
                },
                {
                  "player": "Hideki Matsuyama",
                  "drive_avg": 299.61
                },
                {
                  "player": "Hidemichi Tanaka",
                  "drive_avg": 281.44
                },
                {
                  "player": "Hideto Tanihara",
                  "drive_avg": 284.5
                },
                {
                  "player": "Hirofumi Miyase",
                  "drive_avg": 279.7
                },
                {
                  "player": "Hiroshi Iwata",
                  "drive_avg": 288.8
                },
                {
                  "player": "Hisayuki Sasaki",
                  "drive_avg": 267.3
                },
                {
                  "player": "Howard Twitty",
                  "drive_avg": 261.87
                },
                {
                  "player": "Hubert Green",
                  "drive_avg": 250.53333333333333
                },
                {
                  "player": "Hudson Swafford",
                  "drive_avg": 302.1125
                },
                {
                  "player": "Hugh Royer III",
                  "drive_avg": 271.06666666666666
                },
                {
                  "player": "Hunter Haas",
                  "drive_avg": 286.775
                },
                {
                  "player": "Hunter Mahan",
                  "drive_avg": 294.1705882352941
                },
                {
                  "player": "Iain Steel",
                  "drive_avg": 268.1
                },
                {
                  "player": "Ian Baker-Finch",
                  "drive_avg": 256.98
                },
                {
                  "player": "Ian Leggatt",
                  "drive_avg": 289.05
                },
                {
                  "player": "Ian Poulter",
                  "drive_avg": 286.40588235294115
                },
                {
                  "player": "Isao Aoki",
                  "drive_avg": 253
                },
                {
                  "player": "J.B. Holmes",
                  "drive_avg": 309.8
                },
                {
                  "player": "J.C. Snead",
                  "drive_avg": 263.325
                },
                {
                  "player": "J.J. Henry",
                  "drive_avg": 291.82631578947365
                },
                {
                  "player": "J.J. Killeen",
                  "drive_avg": 289.9
                },
                {
                  "player": "J.J. Spaun",
                  "drive_avg": 293.6714285714285
                },
                {
                  "player": "J.L. Lewis",
                  "drive_avg": 281.5181818181818
                },
                {
                  "player": "J.P. Hayes",
                  "drive_avg": 276.5375
                },
                {
                  "player": "J.T. Poston",
                  "drive_avg": 296.2285714285714
                },
                {
                  "player": "JC Anderson",
                  "drive_avg": 272.35
                },
                {
                  "player": "Jack Ferenz",
                  "drive_avg": 255.1
                },
                {
                  "player": "Jack Kay Jr.",
                  "drive_avg": 262.7
                },
                {
                  "player": "Jack O'Keefe",
                  "drive_avg": 266.3
                },
                {
                  "player": "Jack Renner",
                  "drive_avg": 247.2
                },
                {
                  "player": "Jaco Van Zyl",
                  "drive_avg": 285.3
                },
                {
                  "player": "Jaime Gomez",
                  "drive_avg": 252.3
                },
                {
                  "player": "James Driscoll",
                  "drive_avg": 292.7125
                },
                {
                  "player": "James Hahn",
                  "drive_avg": 295.14
                },
                {
                  "player": "James Nitties",
                  "drive_avg": 288.85
                },
                {
                  "player": "Jamie Donaldson",
                  "drive_avg": 294.9
                },
                {
                  "player": "Jamie Lovemark",
                  "drive_avg": 303.825
                },
                {
                  "player": "Jared Wolfe",
                  "drive_avg": 309.6
                },
                {
                  "player": "Jarrod Lyle",
                  "drive_avg": 290.55
                },
                {
                  "player": "Jason Allred",
                  "drive_avg": 299.4
                },
                {
                  "player": "Jason Bohn",
                  "drive_avg": 282.83846153846156
                },
                {
                  "player": "Jason Buha",
                  "drive_avg": 282.8
                },
                {
                  "player": "Jason Caron",
                  "drive_avg": 283.95
                },
                {
                  "player": "Jason Day",
                  "drive_avg": 302.75
                },
                {
                  "player": "Jason Dufner",
                  "drive_avg": 289.7470588235294
                },
                {
                  "player": "Jason Gore",
                  "drive_avg": 294.975
                },
                {
                  "player": "Jason Hill",
                  "drive_avg": 281.8
                },
                {
                  "player": "Jason Kokrak",
                  "drive_avg": 306.8636363636364
                },
                {
                  "player": "Jason Schultz",
                  "drive_avg": 294.4
                },
                {
                  "player": "Jay Delsing",
                  "drive_avg": 271.59333333333336
                },
                {
                  "player": "Jay Don Blake",
                  "drive_avg": 266.81176470588235
                },
                {
                  "player": "Jay Haas",
                  "drive_avg": 265.37368421052633
                },
                {
                  "player": "Jay Williamson",
                  "drive_avg": 280.0230769230769
                },
                {
                  "player": "Jean Van de Velde",
                  "drive_avg": 273.85
                },
                {
                  "player": "Jeev Milkha Singh",
                  "drive_avg": 287.3
                },
                {
                  "player": "Jeff Brehaut",
                  "drive_avg": 283.6125
                },
                {
                  "player": "Jeff Cook",
                  "drive_avg": 255.8
                },
                {
                  "player": "Jeff Coston",
                  "drive_avg": 258
                },
                {
                  "player": "Jeff Gallagher",
                  "drive_avg": 265.59999999999997
                },
                {
                  "player": "Jeff Gove",
                  "drive_avg": 284.6333333333333
                },
                {
                  "player": "Jeff Hart",
                  "drive_avg": 260.75
                },
                {
                  "player": "Jeff Julian",
                  "drive_avg": 272.70000000000005
                },
                {
                  "player": "Jeff Klauk",
                  "drive_avg": 280.9
                },
                {
                  "player": "Jeff Klein",
                  "drive_avg": 270.1
                },
                {
                  "player": "Jeff Leonard",
                  "drive_avg": 253.3
                },
                {
                  "player": "Jeff Lewis",
                  "drive_avg": 266.5
                },
                {
                  "player": "Jeff Maggert",
                  "drive_avg": 275.0130434782609
                },
                {
                  "player": "Jeff Overton",
                  "drive_avg": 293.10909090909087
                },
                {
                  "player": "Jeff Quinney",
                  "drive_avg": 275.175
                },
                {
                  "player": "Jeff Sluman",
                  "drive_avg": 267.747619047619
                },
                {
                  "player": "Jeff Woodland",
                  "drive_avg": 246.75
                },
                {
                  "player": "Jeffrey Wilson",
                  "drive_avg": 263.7
                },
                {
                  "player": "Jeremy Anderson",
                  "drive_avg": 283
                },
                {
                  "player": "Jerod Turner",
                  "drive_avg": 279
                },
                {
                  "player": "Jerry Anderson",
                  "drive_avg": 252.85000000000002
                },
                {
                  "player": "Jerry Haas",
                  "drive_avg": 252.975
                },
                {
                  "player": "Jerry Kelly",
                  "drive_avg": 276.42857142857144
                },
                {
                  "player": "Jerry Pate",
                  "drive_avg": 260.8333333333333
                },
                {
                  "player": "Jerry Smith",
                  "drive_avg": 273.425
                },
                {
                  "player": "Jesper Parnevik",
                  "drive_avg": 278.44666666666666
                },
                {
                  "player": "Jess Daley",
                  "drive_avg": 281.8
                },
                {
                  "player": "Jhonattan Vegas",
                  "drive_avg": 306.23636363636365
                },
                {
                  "player": "Jim Benepe",
                  "drive_avg": 260.7
                },
                {
                  "player": "Jim Booros",
                  "drive_avg": 255.3
                },
                {
                  "player": "Jim Carter",
                  "drive_avg": 267.45714285714286
                },
                {
                  "player": "Jim Estes",
                  "drive_avg": 266.1
                },
                {
                  "player": "Jim Furyk",
                  "drive_avg": 274.3115384615384
                },
                {
                  "player": "Jim Gallagher, Jr.",
                  "drive_avg": 272.2692307692308
                },
                {
                  "player": "Jim Hallet",
                  "drive_avg": 258.73333333333335
                },
                {
                  "player": "Jim Herman",
                  "drive_avg": 292.8636363636364
                },
                {
                  "player": "Jim Knous",
                  "drive_avg": 297.75
                },
                {
                  "player": "Jim McGovern",
                  "drive_avg": 269.8363636363636
                },
                {
                  "player": "Jim Nelford",
                  "drive_avg": 258.95
                },
                {
                  "player": "Jim Renner",
                  "drive_avg": 289.43333333333334
                },
                {
                  "player": "Jim Rutledge",
                  "drive_avg": 288.5
                },
                {
                  "player": "Jim Simons",
                  "drive_avg": 248.6
                },
                {
                  "player": "Jim Thorpe",
                  "drive_avg": 260.3
                },
                {
                  "player": "Jim Wilson",
                  "drive_avg": 252.3
                },
                {
                  "player": "Jim Woodward",
                  "drive_avg": 260.4
                },
                {
                  "player": "Jimmy Green",
                  "drive_avg": 272.125
                },
                {
                  "player": "Jimmy Johnston",
                  "drive_avg": 262.23333333333335
                },
                {
                  "player": "Jimmy Walker",
                  "drive_avg": 298.3625
                },
                {
                  "player": "Jin Park",
                  "drive_avg": 273.79999999999995
                },
                {
                  "player": "Joaquin Niemann",
                  "drive_avg": 305.725
                },
                {
                  "player": "Jodie Mudd",
                  "drive_avg": 271.11428571428576
                },
                {
                  "player": "Joe Acosta, Jr.",
                  "drive_avg": 275.2
                },
                {
                  "player": "Joe Daley",
                  "drive_avg": 265.25
                },
                {
                  "player": "Joe Durant",
                  "drive_avg": 280.74666666666667
                },
                {
                  "player": "Joe Ogilvie",
                  "drive_avg": 284.9916666666667
                },
                {
                  "player": "Joe Ozaki",
                  "drive_avg": 267.0142857142857
                },
                {
                  "player": "Joel Dahmen",
                  "drive_avg": 293.1333333333333
                },
                {
                  "player": "Joel Edwards",
                  "drive_avg": 264.83076923076925
                },
                {
                  "player": "Joey Garber",
                  "drive_avg": 293.9
                },
                {
                  "player": "Joey Gullion",
                  "drive_avg": 268.1
                },
                {
                  "player": "Joey Rassett",
                  "drive_avg": 259.2333333333333
                },
                {
                  "player": "Joey Sindelar",
                  "drive_avg": 275.2142857142857
                },
                {
                  "player": "Joey Snyder III",
                  "drive_avg": 291.8
                },
                {
                  "player": "John Adams",
                  "drive_avg": 276.8
                },
                {
                  "player": "John Chin",
                  "drive_avg": 300
                },
                {
                  "player": "John Cook",
                  "drive_avg": 262.9777777777778
                },
                {
                  "player": "John Daly",
                  "drive_avg": 301.31666666666666
                },
                {
                  "player": "John Dowdall",
                  "drive_avg": 256.8666666666667
                },
                {
                  "player": "John Elliott",
                  "drive_avg": 280.73999999999995
                },
                {
                  "player": "John Engler, Jr.",
                  "drive_avg": 287.4
                },
                {
                  "player": "John Flannery",
                  "drive_avg": 255.6
                },
                {
                  "player": "John Horne",
                  "drive_avg": 264.9
                },
                {
                  "player": "John Huh",
                  "drive_avg": 286.15555555555557
                },
                {
                  "player": "John Huston",
                  "drive_avg": 276.6
                },
                {
                  "player": "John Inman",
                  "drive_avg": 248.34444444444443
                },
                {
                  "player": "John Maginnes",
                  "drive_avg": 263.15999999999997
                },
                {
                  "player": "John Mahaffey",
                  "drive_avg": 257.99
                },
                {
                  "player": "John Mallinger",
                  "drive_avg": 280.15999999999997
                },
                {
                  "player": "John McComish",
                  "drive_avg": 278.45
                },
                {
                  "player": "John Merrick",
                  "drive_avg": 292.1666666666667
                },
                {
                  "player": "John Morgan",
                  "drive_avg": 291
                },
                {
                  "player": "John Morse",
                  "drive_avg": 252.61999999999998
                },
                {
                  "player": "John Peterson",
                  "drive_avg": 288.1
                },
                {
                  "player": "John Riegger",
                  "drive_avg": 277.5875
                },
                {
                  "player": "John Rollins",
                  "drive_avg": 290.43571428571425
                },
                {
                  "player": "John Ross",
                  "drive_avg": 260.9
                },
                {
                  "player": "John Senden",
                  "drive_avg": 291.68666666666667
                },
                {
                  "player": "John Wilson",
                  "drive_avg": 266.08000000000004
                },
                {
                  "player": "Johnson Wagner",
                  "drive_avg": 285.31538461538463
                },
                {
                  "player": "Jon Chaffee",
                  "drive_avg": 252.6
                },
                {
                  "player": "Jon Curran",
                  "drive_avg": 272.7
                },
                {
                  "player": "Jon Mills",
                  "drive_avg": 295.7
                },
                {
                  "player": "Jon Rahm",
                  "drive_avg": 309.61428571428576
                },
                {
                  "player": "Jonas Blixt",
                  "drive_avg": 289.1
                },
                {
                  "player": "Jonathan Byrd",
                  "drive_avg": 291.20588235294116
                },
                {
                  "player": "Jonathan Kaye",
                  "drive_avg": 283.77
                },
                {
                  "player": "Jonathan Randolph",
                  "drive_avg": 288.09999999999997
                },
                {
                  "player": "Jordan Spieth",
                  "drive_avg": 297.3
                },
                {
                  "player": "Joseph Bramlett",
                  "drive_avg": 306.92
                },
                {
                  "player": "Josh Teater",
                  "drive_avg": 294.7875
                },
                {
                  "player": "Joshua Creel",
                  "drive_avg": 284.6
                },
                {
                  "player": "José Coceres",
                  "drive_avg": 274.8
                },
                {
                  "player": "José María Olazábal",
                  "drive_avg": 277.75
                },
                {
                  "player": "José de Jesús Rodríguez",
                  "drive_avg": 290.2
                },
                {
                  "player": "Julián Etulain",
                  "drive_avg": 292.65
                },
                {
                  "player": "Justin Bolli",
                  "drive_avg": 283.5
                },
                {
                  "player": "Justin Hicks",
                  "drive_avg": 283.7
                },
                {
                  "player": "Justin Leonard",
                  "drive_avg": 275.18571428571425
                },
                {
                  "player": "Justin Lower",
                  "drive_avg": 293.25
                },
                {
                  "player": "Justin Rose",
                  "drive_avg": 295.7421052631579
                },
                {
                  "player": "Justin Suh",
                  "drive_avg": 295.4
                },
                {
                  "player": "Justin Thomas",
                  "drive_avg": 306.3333333333333
                },
                {
                  "player": "K.H. Lee",
                  "drive_avg": 296.41999999999996
                },
                {
                  "player": "K.J. Choi",
                  "drive_avg": 282.06315789473683
                },
                {
                  "player": "Kaname Yokoo",
                  "drive_avg": 282.1666666666667
                },
                {
                  "player": "Karl Kimball",
                  "drive_avg": 258.7
                },
                {
                  "player": "Katsumasa Miyamoto",
                  "drive_avg": 279
                },
                {
                  "player": "Kawika Cotner",
                  "drive_avg": 258.1
                },
                {
                  "player": "Keegan Bradley",
                  "drive_avg": 301.44615384615383
                },
                {
                  "player": "Keith Clearwater",
                  "drive_avg": 262.28181818181815
                },
                {
                  "player": "Keith Fergus",
                  "drive_avg": 272.025
                },
                {
                  "player": "Keith Mitchell",
                  "drive_avg": 308.05
                },
                {
                  "player": "Keith Nolan",
                  "drive_avg": 264.6
                },
                {
                  "player": "Kelly Gibson",
                  "drive_avg": 279.025
                },
                {
                  "player": "Kelly Grunewald",
                  "drive_avg": 289.1
                },
                {
                  "player": "Kelly Kraft",
                  "drive_avg": 289.05
                },
                {
                  "player": "Ken Brown",
                  "drive_avg": 259
                },
                {
                  "player": "Ken Duke",
                  "drive_avg": 280.64
                },
                {
                  "player": "Ken Green",
                  "drive_avg": 263.1727272727273
                },
                {
                  "player": "Ken Schall",
                  "drive_avg": 256.3
                },
                {
                  "player": "Kenichi Kuboya",
                  "drive_avg": 281
                },
                {
                  "player": "Kenneth Ferrie",
                  "drive_avg": 284.8
                },
                {
                  "player": "Kenneth Staton",
                  "drive_avg": 290.75
                },
                {
                  "player": "Kenny Knox",
                  "drive_avg": 258.55
                },
                {
                  "player": "Kenny Perry",
                  "drive_avg": 282.34999999999997
                },
                {
                  "player": "Kent Jones",
                  "drive_avg": 281.40000000000003
                },
                {
                  "player": "Kevin Burton",
                  "drive_avg": 265
                },
                {
                  "player": "Kevin Chappell",
                  "drive_avg": 299.54545454545456
                },
                {
                  "player": "Kevin Johnson",
                  "drive_avg": 280.5
                },
                {
                  "player": "Kevin Kisner",
                  "drive_avg": 288.02500000000003
                },
                {
                  "player": "Kevin Muncrief",
                  "drive_avg": 290.7
                },
                {
                  "player": "Kevin Na",
                  "drive_avg": 283.1125
                },
                {
                  "player": "Kevin Roy",
                  "drive_avg": 302.5
                },
                {
                  "player": "Kevin Stadler",
                  "drive_avg": 292.46666666666664
                },
                {
                  "player": "Kevin Streelman",
                  "drive_avg": 292.3375
                },
                {
                  "player": "Kevin Sutherland",
                  "drive_avg": 281.0466666666667
                },
                {
                  "player": "Kevin Tway",
                  "drive_avg": 305.8375
                },
                {
                  "player": "Kevin Wentworth",
                  "drive_avg": 270.40000000000003
                },
                {
                  "player": "Kevin Yu",
                  "drive_avg": 307.9
                },
                {
                  "player": "Kim Young",
                  "drive_avg": 251.29999999999998
                },
                {
                  "player": "Kiradech Aphibarnrat",
                  "drive_avg": 293.3666666666666
                },
                {
                  "player": "Kirk Triplett",
                  "drive_avg": 269.37894736842105
                },
                {
                  "player": "Kramer Hickok",
                  "drive_avg": 293.15999999999997
                },
                {
                  "player": "Kris Blanks",
                  "drive_avg": 286.79999999999995
                },
                {
                  "player": "Kris Cox",
                  "drive_avg": 298.75
                },
                {
                  "player": "Kris Ventura",
                  "drive_avg": 305.2
                },
                {
                  "player": "Kurt Kitayama",
                  "drive_avg": 308.35
                },
                {
                  "player": "Kyle Jones",
                  "drive_avg": 284
                },
                {
                  "player": "Kyle Reifers",
                  "drive_avg": 289.54
                },
                {
                  "player": "Kyle Stanley",
                  "drive_avg": 295.54545454545456
                },
                {
                  "player": "Kyle Thompson",
                  "drive_avg": 285.06666666666666
                },
                {
                  "player": "Kyle Westmoreland",
                  "drive_avg": 312.3
                },
                {
                  "player": "Lance Ten Broeck",
                  "drive_avg": 261.51666666666665
                },
                {
                  "player": "Lanny Wadkins",
                  "drive_avg": 254.34166666666667
                },
                {
                  "player": "Lanto Griffin",
                  "drive_avg": 302.375
                },
                {
                  "player": "Larry Mize",
                  "drive_avg": 260.7470588235294
                },
                {
                  "player": "Larry Nelson",
                  "drive_avg": 262.075
                },
                {
                  "player": "Larry Rinker",
                  "drive_avg": 255.38181818181818
                },
                {
                  "player": "Larry Silveira",
                  "drive_avg": 270.3333333333333
                },
                {
                  "player": "Lee Hodges",
                  "drive_avg": 299.70000000000005
                },
                {
                  "player": "Lee Janzen",
                  "drive_avg": 275.20909090909095
                },
                {
                  "player": "Lee Porter",
                  "drive_avg": 262.8833333333333
                },
                {
                  "player": "Lee Rinker",
                  "drive_avg": 262.58000000000004
                },
                {
                  "player": "Lee Westwood",
                  "drive_avg": 295.2666666666667
                },
                {
                  "player": "Lee Williams",
                  "drive_avg": 275.6
                },
                {
                  "player": "Leif Olson",
                  "drive_avg": 296.5
                },
                {
                  "player": "Len Mattiace",
                  "drive_avg": 273.01666666666665
                },
                {
                  "player": "Lennie Clements",
                  "drive_avg": 255.27272727272728
                },
                {
                  "player": "Leonard Thompson",
                  "drive_avg": 263.3333333333333
                },
                {
                  "player": "Lon Hinkle",
                  "drive_avg": 273.2
                },
                {
                  "player": "Loren Roberts",
                  "drive_avg": 256.9736842105263
                },
                {
                  "player": "Louis Oosthuizen",
                  "drive_avg": 298.1222222222222
                },
                {
                  "player": "Lucas Glover",
                  "drive_avg": 297.5684210526316
                },
                {
                  "player": "Lucas Herbert",
                  "drive_avg": 304.05
                },
                {
                  "player": "Lucas Parsons",
                  "drive_avg": 278
                },
                {
                  "player": "Luke Donald",
                  "drive_avg": 280.1222222222222
                },
                {
                  "player": "Luke Guthrie",
                  "drive_avg": 286.075
                },
                {
                  "player": "Luke List",
                  "drive_avg": 310.93333333333334
                },
                {
                  "player": "MJ Daffue",
                  "drive_avg": 306.9
                },
                {
                  "player": "Mac O'Grady",
                  "drive_avg": 273.06666666666666
                },
                {
                  "player": "Mackenzie Hughes",
                  "drive_avg": 296.59999999999997
                },
                {
                  "player": "Marc Leishman",
                  "drive_avg": 295.92857142857144
                },
                {
                  "player": "Marc Turnesa",
                  "drive_avg": 282.4666666666667
                },
                {
                  "player": "Marco Dawson",
                  "drive_avg": 279.9857142857143
                },
                {
                  "player": "Mario Tiziani",
                  "drive_avg": 285.8
                },
                {
                  "player": "Mark Anderson",
                  "drive_avg": 289.825
                },
                {
                  "player": "Mark Brooks",
                  "drive_avg": 263.8818181818182
                },
                {
                  "player": "Mark Calcavecchia",
                  "drive_avg": 279.15833333333336
                },
                {
                  "player": "Mark Carnevale",
                  "drive_avg": 259.36
                },
                {
                  "player": "Mark Hayes",
                  "drive_avg": 265.28000000000003
                },
                {
                  "player": "Mark Hensby",
                  "drive_avg": 286.24
                },
                {
                  "player": "Mark Hubbard",
                  "drive_avg": 284.24285714285713
                },
                {
                  "player": "Mark Lye",
                  "drive_avg": 262.8833333333333
                },
                {
                  "player": "Mark Maness",
                  "drive_avg": 262.4
                },
                {
                  "player": "Mark McCumber",
                  "drive_avg": 264.29
                },
                {
                  "player": "Mark O'Meara",
                  "drive_avg": 267.44
                },
                {
                  "player": "Mark Pfeil",
                  "drive_avg": 252.2
                },
                {
                  "player": "Mark Wiebe",
                  "drive_avg": 262.0785714285714
                },
                {
                  "player": "Mark Wilson",
                  "drive_avg": 280.85
                },
                {
                  "player": "Mark Wurtz",
                  "drive_avg": 262.5333333333333
                },
                {
                  "player": "Martin Flores",
                  "drive_avg": 298.5
                },
                {
                  "player": "Martin Kaymer",
                  "drive_avg": 291.65
                },
                {
                  "player": "Martin Laird",
                  "drive_avg": 297.89375
                },
                {
                  "player": "Martin Piller",
                  "drive_avg": 290.3333333333333
                },
                {
                  "player": "Martin Trainer",
                  "drive_avg": 304.02000000000004
                },
                {
                  "player": "Marty Schiene",
                  "drive_avg": 255.2
                },
                {
                  "player": "Massy Kuramoto",
                  "drive_avg": 254.1
                },
                {
                  "player": "Mathew Goggin",
                  "drive_avg": 292.90999999999997
                },
                {
                  "player": "Mathias Grönberg",
                  "drive_avg": 296.5
                },
                {
                  "player": "Matt Atkins",
                  "drive_avg": 301.4
                },
                {
                  "player": "Matt Bettencourt",
                  "drive_avg": 290.85
                },
                {
                  "player": "Matt Davidson",
                  "drive_avg": 280.9
                },
                {
                  "player": "Matt Every",
                  "drive_avg": 290.2
                },
                {
                  "player": "Matt Fitzpatrick",
                  "drive_avg": 296.94
                },
                {
                  "player": "Matt Gogel",
                  "drive_avg": 278.0833333333333
                },
                {
                  "player": "Matt Hansen",
                  "drive_avg": 300.5
                },
                {
                  "player": "Matt Hendrix",
                  "drive_avg": 301.7
                },
                {
                  "player": "Matt Jones",
                  "drive_avg": 297.4133333333333
                },
                {
                  "player": "Matt Kuchar",
                  "drive_avg": 284.247619047619
                },
                {
                  "player": "Matt McQuillan",
                  "drive_avg": 285.4
                },
                {
                  "player": "Matt NeSmith",
                  "drive_avg": 293.1
                },
                {
                  "player": "Matt Peterson",
                  "drive_avg": 270.7
                },
                {
                  "player": "Matt Wallace",
                  "drive_avg": 300.825
                },
                {
                  "player": "Matt Weibring",
                  "drive_avg": 288.7
                },
                {
                  "player": "Matthew NeSmith",
                  "drive_avg": 296.3
                },
                {
                  "player": "Matthew Wolff",
                  "drive_avg": 315.3
                },
                {
                  "player": "Matthias Schwab",
                  "drive_avg": 293.1
                },
                {
                  "player": "Matti Schmid",
                  "drive_avg": 315.7
                },
                {
                  "player": "Maverick McNealy",
                  "drive_avg": 301
                },
                {
                  "player": "Max Homa",
                  "drive_avg": 300.81666666666666
                },
                {
                  "player": "Max McGreevy",
                  "drive_avg": 288.1
                },
                {
                  "player": "Michael Allen",
                  "drive_avg": 280.03333333333336
                },
                {
                  "player": "Michael Boyd",
                  "drive_avg": 278.7
                },
                {
                  "player": "Michael Bradley",
                  "drive_avg": 277.52500000000003
                },
                {
                  "player": "Michael Christie",
                  "drive_avg": 276.1
                },
                {
                  "player": "Michael Clark II",
                  "drive_avg": 281.5
                },
                {
                  "player": "Michael Connell",
                  "drive_avg": 280.90000000000003
                },
                {
                  "player": "Michael Cunning",
                  "drive_avg": 248.8
                },
                {
                  "player": "Michael Gellerman",
                  "drive_avg": 292.8
                },
                {
                  "player": "Michael Gligic",
                  "drive_avg": 300.575
                },
                {
                  "player": "Michael Kim",
                  "drive_avg": 289.93333333333334
                },
                {
                  "player": "Michael Letzig",
                  "drive_avg": 291.53333333333336
                },
                {
                  "player": "Michael Long",
                  "drive_avg": 290.1
                },
                {
                  "player": "Michael Muehr",
                  "drive_avg": 270.7
                },
                {
                  "player": "Michael Putnam",
                  "drive_avg": 293.375
                },
                {
                  "player": "Michael Sim",
                  "drive_avg": 287.20000000000005
                },
                {
                  "player": "Michael Thompson",
                  "drive_avg": 288.2307692307692
                },
                {
                  "player": "Miguel Angel Carballo",
                  "drive_avg": 288.8
                },
                {
                  "player": "Miguel Angel Jiménez",
                  "drive_avg": 274.4
                },
                {
                  "player": "Mike Bender",
                  "drive_avg": 259.7
                },
                {
                  "player": "Mike Blackburn",
                  "drive_avg": 262.3
                },
                {
                  "player": "Mike Brisky",
                  "drive_avg": 260.55
                },
                {
                  "player": "Mike Donald",
                  "drive_avg": 257.07142857142856
                },
                {
                  "player": "Mike Grob",
                  "drive_avg": 287.6
                },
                {
                  "player": "Mike Hammond",
                  "drive_avg": 256
                },
                {
                  "player": "Mike Heinen",
                  "drive_avg": 285.54
                },
                {
                  "player": "Mike Hulbert",
                  "drive_avg": 263.08
                },
                {
                  "player": "Mike McCullough",
                  "drive_avg": 259.05
                },
                {
                  "player": "Mike Miles",
                  "drive_avg": 260.3
                },
                {
                  "player": "Mike Nicolette",
                  "drive_avg": 261.3
                },
                {
                  "player": "Mike Reid",
                  "drive_avg": 251.43076923076922
                },
                {
                  "player": "Mike Schuchart",
                  "drive_avg": 262.1
                },
                {
                  "player": "Mike Small",
                  "drive_avg": 267.6
                },
                {
                  "player": "Mike Smith",
                  "drive_avg": 257.8666666666666
                },
                {
                  "player": "Mike Sposa",
                  "drive_avg": 277.81666666666666
                },
                {
                  "player": "Mike Springer",
                  "drive_avg": 267.31
                },
                {
                  "player": "Mike Standly",
                  "drive_avg": 271.4
                },
                {
                  "player": "Mike Sullivan",
                  "drive_avg": 266.5111111111111
                },
                {
                  "player": "Mike Swartz",
                  "drive_avg": 268.7
                },
                {
                  "player": "Mike Weir",
                  "drive_avg": 279.03333333333336
                },
                {
                  "player": "Mitch Adcock",
                  "drive_avg": 254.35
                },
                {
                  "player": "Mito Pereira",
                  "drive_avg": 303.9
                },
                {
                  "player": "Morgan Hoffmann",
                  "drive_avg": 295.03999999999996
                },
                {
                  "player": "Morris Hatalsky",
                  "drive_avg": 247.1375
                },
                {
                  "player": "Nate Lashley",
                  "drive_avg": 292.03333333333336
                },
                {
                  "player": "Nate Smith",
                  "drive_avg": 281.2
                },
                {
                  "player": "Nathan Green",
                  "drive_avg": 283.1142857142857
                },
                {
                  "player": "Neal Lancaster",
                  "drive_avg": 276.59375
                },
                {
                  "player": "Neale Smith",
                  "drive_avg": 265.7
                },
                {
                  "player": "Nelson Ledesma",
                  "drive_avg": 293.2
                },
                {
                  "player": "Nicholas Lindheim",
                  "drive_avg": 290.3
                },
                {
                  "player": "Nicholas Thompson",
                  "drive_avg": 291.37142857142857
                },
                {
                  "player": "Nick Faldo",
                  "drive_avg": 261.93333333333334
                },
                {
                  "player": "Nick Flanagan",
                  "drive_avg": 291.8
                },
                {
                  "player": "Nick Hardy",
                  "drive_avg": 305.2
                },
                {
                  "player": "Nick O'Hern",
                  "drive_avg": 275.28000000000003
                },
                {
                  "player": "Nick Price",
                  "drive_avg": 270.5833333333333
                },
                {
                  "player": "Nick Taylor",
                  "drive_avg": 293.8333333333333
                },
                {
                  "player": "Nick Watney",
                  "drive_avg": 299.73333333333335
                },
                {
                  "player": "Niclas Fasth",
                  "drive_avg": 289.1
                },
                {
                  "player": "Nico Echavarria",
                  "drive_avg": 300.7
                },
                {
                  "player": "Nicolas Colsaerts",
                  "drive_avg": 305.7
                },
                {
                  "player": "Nolan Henke",
                  "drive_avg": 261.675
                },
                {
                  "player": "Notah Begay III",
                  "drive_avg": 280.32
                },
                {
                  "player": "Olin Browne",
                  "drive_avg": 268.74285714285713
                },
                {
                  "player": "Ollie Schniederjans",
                  "drive_avg": 302.8333333333333
                },
                {
                  "player": "Omar Uresti",
                  "drive_avg": 267.3090909090909
                },
                {
                  "player": "Oscar Fraustro",
                  "drive_avg": 289.5
                },
                {
                  "player": "P.H. Horgan III",
                  "drive_avg": 264.5
                },
                {
                  "player": "Padraig Harrington",
                  "drive_avg": 292.06363636363636
                },
                {
                  "player": "Parker McLachlin",
                  "drive_avg": 284.73333333333335
                },
                {
                  "player": "Pat Bates",
                  "drive_avg": 274.225
                },
                {
                  "player": "Pat McGowan",
                  "drive_avg": 252.11999999999998
                },
                {
                  "player": "Pat Perez",
                  "drive_avg": 289.88
                },
                {
                  "player": "Patrick Burke",
                  "drive_avg": 262.84999999999997
                },
                {
                  "player": "Patrick Cantlay",
                  "drive_avg": 304.1857142857143
                },
                {
                  "player": "Patrick Reed",
                  "drive_avg": 294.31
                },
                {
                  "player": "Patrick Rodgers",
                  "drive_avg": 305.4888888888889
                },
                {
                  "player": "Patrick Sheehan",
                  "drive_avg": 286.34285714285716
                },
                {
                  "player": "Patton Kizzire",
                  "drive_avg": 297.3
                },
                {
                  "player": "Paul Azinger",
                  "drive_avg": 274.3368421052632
                },
                {
                  "player": "Paul Barjon",
                  "drive_avg": 309.4
                },
                {
                  "player": "Paul Casey",
                  "drive_avg": 299.07
                },
                {
                  "player": "Paul Claxton",
                  "drive_avg": 272.525
                },
                {
                  "player": "Paul Curry",
                  "drive_avg": 255.8
                },
                {
                  "player": "Paul Gow",
                  "drive_avg": 280.78000000000003
                },
                {
                  "player": "Paul Goydos",
                  "drive_avg": 268.2882352941176
                },
                {
                  "player": "Paul Haley II",
                  "drive_avg": 282.9
                },
                {
                  "player": "Paul Stankowski",
                  "drive_avg": 282.25714285714287
                },
                {
                  "player": "Paul Trittler",
                  "drive_avg": 266.70000000000005
                },
                {
                  "player": "Payne Stewart",
                  "drive_avg": 268.46153846153845
                },
                {
                  "player": "Per-Ulrik Johansson",
                  "drive_avg": 284.0333333333333
                },
                {
                  "player": "Perry Arthur",
                  "drive_avg": 264
                },
                {
                  "player": "Perry Moss",
                  "drive_avg": 269.23333333333335
                },
                {
                  "player": "Pete Jordan",
                  "drive_avg": 261.65555555555557
                },
                {
                  "player": "Peter Hanson",
                  "drive_avg": 295.3
                },
                {
                  "player": "Peter Jacobsen",
                  "drive_avg": 268.9375
                },
                {
                  "player": "Peter Lonard",
                  "drive_avg": 285.9125
                },
                {
                  "player": "Peter Malnati",
                  "drive_avg": 289.3
                },
                {
                  "player": "Peter Persons",
                  "drive_avg": 252.075
                },
                {
                  "player": "Peter Tomasulo",
                  "drive_avg": 293
                },
                {
                  "player": "Peter Uihlein",
                  "drive_avg": 300.5
                },
                {
                  "player": "Phil Blackmar",
                  "drive_avg": 272.39230769230767
                },
                {
                  "player": "Phil Mickelson",
                  "drive_avg": 292.651724137931
                },
                {
                  "player": "Phil Tataurangi",
                  "drive_avg": 270.41999999999996
                },
                {
                  "player": "Philip Jonas",
                  "drive_avg": 255.2
                },
                {
                  "player": "Phillip Price",
                  "drive_avg": 283.6
                },
                {
                  "player": "R.W. Eaks",
                  "drive_avg": 277.7
                },
                {
                  "player": "Rafa Cabrera Bello",
                  "drive_avg": 291.62
                },
                {
                  "player": "Rafael Alarcon",
                  "drive_avg": 259.3
                },
                {
                  "player": "Rafael Campos",
                  "drive_avg": 299.9
                },
                {
                  "player": "Ray Barr, Jr.",
                  "drive_avg": 253.175
                },
                {
                  "player": "Ray Stewart",
                  "drive_avg": 263.84999999999997
                },
                {
                  "player": "Raymond Floyd",
                  "drive_avg": 259.7
                },
                {
                  "player": "Retief Goosen",
                  "drive_avg": 291.88
                },
                {
                  "player": "Rex Caldwell",
                  "drive_avg": 262.4
                },
                {
                  "player": "Rhein Gibson",
                  "drive_avg": 295.5
                },
                {
                  "player": "Rich Barcelo",
                  "drive_avg": 288.90000000000003
                },
                {
                  "player": "Rich Beem",
                  "drive_avg": 287.52500000000003
                },
                {
                  "player": "Richard Cromwell",
                  "drive_avg": 249.7
                },
                {
                  "player": "Richard Johnson",
                  "drive_avg": 284.75
                },
                {
                  "player": "Richard Lee",
                  "drive_avg": 283.2666666666667
                },
                {
                  "player": "Richard Zokol",
                  "drive_avg": 258.82222222222225
                },
                {
                  "player": "Richie Coughlan",
                  "drive_avg": 278
                },
                {
                  "player": "Richy Werenski",
                  "drive_avg": 294.40000000000003
                },
                {
                  "player": "Rick Dalpos",
                  "drive_avg": 263.9666666666667
                },
                {
                  "player": "Rick Fehr",
                  "drive_avg": 262.9
                },
                {
                  "player": "Rick Lamb",
                  "drive_avg": 298
                },
                {
                  "player": "Rick Pearson",
                  "drive_avg": 255.45
                },
                {
                  "player": "Rick Price",
                  "drive_avg": 278.6
                },
                {
                  "player": "Rick Todd",
                  "drive_avg": 264.5
                },
                {
                  "player": "Rickie Fowler",
                  "drive_avg": 298.5285714285714
                },
                {
                  "player": "Ricky Barnes",
                  "drive_avg": 288.99
                },
                {
                  "player": "Rob Boldt",
                  "drive_avg": 266.9
                },
                {
                  "player": "Rob Oppenheim",
                  "drive_avg": 283.7
                },
                {
                  "player": "Rob Rashell",
                  "drive_avg": 280.7
                },
                {
                  "player": "Robby Shelton",
                  "drive_avg": 293.73333333333335
                },
                {
                  "player": "Robert Allenby",
                  "drive_avg": 289.06111111111113
                },
                {
                  "player": "Robert Damron",
                  "drive_avg": 276.98
                },
                {
                  "player": "Robert Gamez",
                  "drive_avg": 274.83684210526314
                },
                {
                  "player": "Robert Garrigus",
                  "drive_avg": 308.04615384615386
                },
                {
                  "player": "Robert Karlsson",
                  "drive_avg": 293.7
                },
                {
                  "player": "Robert Streb",
                  "drive_avg": 295.1454545454545
                },
                {
                  "player": "Robert Thompson",
                  "drive_avg": 251.95
                },
                {
                  "player": "Robert Wrenn",
                  "drive_avg": 263.32222222222225
                },
                {
                  "player": "Roberto Castro",
                  "drive_avg": 283.5857142857143
                },
                {
                  "player": "Roberto Díaz",
                  "drive_avg": 286.85
                },
                {
                  "player": "Robin Freeman",
                  "drive_avg": 270.4909090909091
                },
                {
                  "player": "Rocco Mediate",
                  "drive_avg": 272.71250000000003
                },
                {
                  "player": "Rocky Walcher",
                  "drive_avg": 270
                },
                {
                  "player": "Rod Pampling",
                  "drive_avg": 288.21875
                },
                {
                  "player": "Roger Maltbie",
                  "drive_avg": 259.8857142857143
                },
                {
                  "player": "Roger Sloan",
                  "drive_avg": 294.58000000000004
                },
                {
                  "player": "Roger Tambellini",
                  "drive_avg": 296.3333333333333
                },
                {
                  "player": "Roland Thatcher",
                  "drive_avg": 291.02
                },
                {
                  "player": "Ron Streck",
                  "drive_avg": 257.4
                },
                {
                  "player": "Ron Whittaker",
                  "drive_avg": 272.8
                },
                {
                  "player": "Ronnie Black",
                  "drive_avg": 268.58
                },
                {
                  "player": "Ronnie McCann",
                  "drive_avg": 273.9
                },
                {
                  "player": "Rory McIlroy",
                  "drive_avg": 313.40000000000003
                },
                {
                  "player": "Rory Sabbatini",
                  "drive_avg": 290.2
                },
                {
                  "player": "Roy Biancalana",
                  "drive_avg": 259.3
                },
                {
                  "player": "Russ Cochran",
                  "drive_avg": 268.88235294117646
                },
                {
                  "player": "Russell Beiersdorf",
                  "drive_avg": 265
                },
                {
                  "player": "Russell Henley",
                  "drive_avg": 292.8
                },
                {
                  "player": "Russell Knox",
                  "drive_avg": 288.6818181818182
                },
                {
                  "player": "Ryan Armour",
                  "drive_avg": 282.9111111111111
                },
                {
                  "player": "Ryan Blaum",
                  "drive_avg": 287.43333333333334
                },
                {
                  "player": "Ryan Brehm",
                  "drive_avg": 311.225
                },
                {
                  "player": "Ryan Hietala",
                  "drive_avg": 305.9
                },
                {
                  "player": "Ryan Howison",
                  "drive_avg": 264.4
                },
                {
                  "player": "Ryan Moore",
                  "drive_avg": 287.79375
                },
                {
                  "player": "Ryan Palmer",
                  "drive_avg": 300.065
                },
                {
                  "player": "Ryo Ishikawa",
                  "drive_avg": 290.06
                },
                {
                  "player": "Ryuji Imada",
                  "drive_avg": 281.6375
                },
                {
                  "player": "S.H. Kim",
                  "drive_avg": 305
                },
                {
                  "player": "S.Y. Noh",
                  "drive_avg": 297.9
                },
                {
                  "player": "Sahith Theegala",
                  "drive_avg": 303.75
                },
                {
                  "player": "Sam Burns",
                  "drive_avg": 308.88
                },
                {
                  "player": "Sam Randolph",
                  "drive_avg": 269.65
                },
                {
                  "player": "Sam Ryder",
                  "drive_avg": 295.5
                },
                {
                  "player": "Sam Saunders",
                  "drive_avg": 296.26
                },
                {
                  "player": "Sam Stevens",
                  "drive_avg": 308.7
                },
                {
                  "player": "Sandy Lyle",
                  "drive_avg": 269.44
                },
                {
                  "player": "Sangmoon Bae",
                  "drive_avg": 289.98
                },
                {
                  "player": "Satoshi Kodaira",
                  "drive_avg": 286.64
                },
                {
                  "player": "Scott Brown",
                  "drive_avg": 290.18
                },
                {
                  "player": "Scott Dunlap",
                  "drive_avg": 272.98571428571427
                },
                {
                  "player": "Scott Gardiner",
                  "drive_avg": 288.4
                },
                {
                  "player": "Scott Gump",
                  "drive_avg": 262.2555555555556
                },
                {
                  "player": "Scott Gutschewski",
                  "drive_avg": 302.96
                },
                {
                  "player": "Scott Harrington",
                  "drive_avg": 306.53333333333336
                },
                {
                  "player": "Scott Hend",
                  "drive_avg": 315.75
                },
                {
                  "player": "Scott Hoch",
                  "drive_avg": 265.29411764705884
                },
                {
                  "player": "Scott Langley",
                  "drive_avg": 279.54
                },
                {
                  "player": "Scott Laycock",
                  "drive_avg": 280.6
                },
                {
                  "player": "Scott McCarron",
                  "drive_avg": 286.8266666666667
                },
                {
                  "player": "Scott Medlin",
                  "drive_avg": 258.3
                },
                {
                  "player": "Scott Piercy",
                  "drive_avg": 297.8071428571429
                },
                {
                  "player": "Scott Pinckney",
                  "drive_avg": 293.55
                },
                {
                  "player": "Scott Simpson",
                  "drive_avg": 259.11875
                },
                {
                  "player": "Scott Stallings",
                  "drive_avg": 298.7076923076923
                },
                {
                  "player": "Scott Sterling",
                  "drive_avg": 284.55
                },
                {
                  "player": "Scott Verplank",
                  "drive_avg": 269.54761904761904
                },
                {
                  "player": "Scottie Scheffler",
                  "drive_avg": 308.925
                },
                {
                  "player": "Seamus Power",
                  "drive_avg": 299.5857142857143
                },
                {
                  "player": "Sean Murphy",
                  "drive_avg": 263.95714285714286
                },
                {
                  "player": "Sean O'Hair",
                  "drive_avg": 296.31875
                },
                {
                  "player": "Sebastian Cappelen",
                  "drive_avg": 301.5
                },
                {
                  "player": "Sebastián Muñoz",
                  "drive_avg": 299.65999999999997
                },
                {
                  "player": "Sepp Straka",
                  "drive_avg": 302.03999999999996
                },
                {
                  "player": "Sergio Garcia",
                  "drive_avg": 296.43809523809523
                },
                {
                  "player": "Seth Reeves",
                  "drive_avg": 310.4
                },
                {
                  "player": "Shane Bertsch",
                  "drive_avg": 269.78000000000003
                },
                {
                  "player": "Shane Lowry",
                  "drive_avg": 300.5571428571429
                },
                {
                  "player": "Shaun Micheel",
                  "drive_avg": 284.03636363636366
                },
                {
                  "player": "Shawn Stefani",
                  "drive_avg": 296.11428571428576
                },
                {
                  "player": "Shigeki Maruyama",
                  "drive_avg": 280.7555555555556
                },
                {
                  "player": "Si Woo Kim",
                  "drive_avg": 294.7
                },
                {
                  "player": "Skip Kendall",
                  "drive_avg": 272.0230769230769
                },
                {
                  "player": "Smylie Kaufman",
                  "drive_avg": 301.9
                },
                {
                  "player": "Sonny Skinner",
                  "drive_avg": 257.65
                },
                {
                  "player": "Spencer Levin",
                  "drive_avg": 281.7125
                },
                {
                  "player": "Spike McRoy",
                  "drive_avg": 272.09999999999997
                },
                {
                  "player": "Stan Utley",
                  "drive_avg": 245.05
                },
                {
                  "player": "Stephan Jaeger",
                  "drive_avg": 297.725
                },
                {
                  "player": "Stephen Ames",
                  "drive_avg": 282.00625
                },
                {
                  "player": "Stephen Gangluff",
                  "drive_avg": 288.85
                },
                {
                  "player": "Stephen Leaney",
                  "drive_avg": 277.23999999999995
                },
                {
                  "player": "Steve Allan",
                  "drive_avg": 296.9142857142857
                },
                {
                  "player": "Steve Brodie",
                  "drive_avg": 259.8
                },
                {
                  "player": "Steve Elkington",
                  "drive_avg": 274.4782608695652
                },
                {
                  "player": "Steve Flesch",
                  "drive_avg": 282.45
                },
                {
                  "player": "Steve Gotsche",
                  "drive_avg": 262.8333333333333
                },
                {
                  "player": "Steve Hart",
                  "drive_avg": 255.06
                },
                {
                  "player": "Steve Jones",
                  "drive_avg": 274.03333333333336
                },
                {
                  "player": "Steve Jurgensen",
                  "drive_avg": 267.6333333333333
                },
                {
                  "player": "Steve Lamontagne",
                  "drive_avg": 270.575
                },
                {
                  "player": "Steve LeBrun",
                  "drive_avg": 294.1
                },
                {
                  "player": "Steve Lowery",
                  "drive_avg": 279.39473684210526
                },
                {
                  "player": "Steve Marino",
                  "drive_avg": 294.18333333333334
                },
                {
                  "player": "Steve Pate",
                  "drive_avg": 269.3875
                },
                {
                  "player": "Steve Rintoul",
                  "drive_avg": 264.7
                },
                {
                  "player": "Steve Stricker",
                  "drive_avg": 280.97142857142853
                },
                {
                  "player": "Steve Thomas",
                  "drive_avg": 284.6
                },
                {
                  "player": "Steve Wheatcroft",
                  "drive_avg": 286.2857142857143
                },
                {
                  "player": "Steven Alker",
                  "drive_avg": 275.8
                },
                {
                  "player": "Steven Bowditch",
                  "drive_avg": 297.48333333333335
                },
                {
                  "player": "Stewart Cink",
                  "drive_avg": 290.7
                },
                {
                  "player": "Stuart Appleby",
                  "drive_avg": 286.695
                },
                {
                  "player": "Sung Joon Park",
                  "drive_avg": 283.7
                },
                {
                  "player": "Sung Kang",
                  "drive_avg": 294.71999999999997
                },
                {
                  "player": "Sungjae Im",
                  "drive_avg": 298.96
                },
                {
                  "player": "Søren Kjeldsen",
                  "drive_avg": 273.6
                },
                {
                  "player": "T.C. Chen",
                  "drive_avg": 259.5
                },
                {
                  "player": "Tad Rhyan",
                  "drive_avg": 247.1
                },
                {
                  "player": "Tag Ridings",
                  "drive_avg": 302.81111111111113
                },
                {
                  "player": "Talor Gooch",
                  "drive_avg": 299.6
                },
                {
                  "player": "Tano Goya",
                  "drive_avg": 302
                },
                {
                  "player": "Taylor Montgomery",
                  "drive_avg": 303.4
                },
                {
                  "player": "Taylor Moore",
                  "drive_avg": 302.45
                },
                {
                  "player": "Taylor Pendrith",
                  "drive_avg": 311.3
                },
                {
                  "player": "Taylor Smith",
                  "drive_avg": 269.2
                },
                {
                  "player": "Ted Lehmann",
                  "drive_avg": 264.1
                },
                {
                  "player": "Ted Potter, Jr.",
                  "drive_avg": 284.1714285714285
                },
                {
                  "player": "Ted Purdy",
                  "drive_avg": 289.75
                },
                {
                  "player": "Ted Schulz",
                  "drive_avg": 267.37142857142857
                },
                {
                  "player": "Ted Tryba",
                  "drive_avg": 270.5222222222222
                },
                {
                  "player": "Thomas Aiken",
                  "drive_avg": 290.5
                },
                {
                  "player": "Thomas Detry",
                  "drive_avg": 306.7
                },
                {
                  "player": "Thomas Levet",
                  "drive_avg": 287
                },
                {
                  "player": "Tiger Woods",
                  "drive_avg": 299.46666666666664
                },
                {
                  "player": "Tim Clark",
                  "drive_avg": 276.8833333333333
                },
                {
                  "player": "Tim Conley",
                  "drive_avg": 259.65
                },
                {
                  "player": "Tim Herron",
                  "drive_avg": 288.7055555555555
                },
                {
                  "player": "Tim Loustalot",
                  "drive_avg": 257.6666666666667
                },
                {
                  "player": "Tim Norris",
                  "drive_avg": 249.4333333333333
                },
                {
                  "player": "Tim Petrovic",
                  "drive_avg": 283.15
                },
                {
                  "player": "Tim Simpson",
                  "drive_avg": 260.3333333333333
                },
                {
                  "player": "Tim Wilkinson",
                  "drive_avg": 280.8
                },
                {
                  "player": "Tjaart van der Walt",
                  "drive_avg": 283.25
                },
                {
                  "player": "Todd Barranger",
                  "drive_avg": 288.95000000000005
                },
                {
                  "player": "Todd Demsey",
                  "drive_avg": 282.2
                },
                {
                  "player": "Todd Fischer",
                  "drive_avg": 278.45000000000005
                },
                {
                  "player": "Todd Hamilton",
                  "drive_avg": 285.3
                },
                {
                  "player": "Tom Byrum",
                  "drive_avg": 263.5
                },
                {
                  "player": "Tom Carter",
                  "drive_avg": 296.5
                },
                {
                  "player": "Tom Eubank",
                  "drive_avg": 256.1
                },
                {
                  "player": "Tom Garner",
                  "drive_avg": 248
                },
                {
                  "player": "Tom Gillis",
                  "drive_avg": 287.53333333333336
                },
                {
                  "player": "Tom Hearn",
                  "drive_avg": 248.8
                },
                {
                  "player": "Tom Hoge",
                  "drive_avg": 291.17777777777775
                },
                {
                  "player": "Tom Johnson",
                  "drive_avg": 288.4
                },
                {
                  "player": "Tom Kim",
                  "drive_avg": 298
                },
                {
                  "player": "Tom Kite",
                  "drive_avg": 261.7769230769231
                },
                {
                  "player": "Tom Lehman",
                  "drive_avg": 277.44444444444446
                },
                {
                  "player": "Tom Lewis",
                  "drive_avg": 302.5
                },
                {
                  "player": "Tom Lovelady",
                  "drive_avg": 315.9
                },
                {
                  "player": "Tom Pernice Jr.",
                  "drive_avg": 277.7277777777778
                },
                {
                  "player": "Tom Purtzer",
                  "drive_avg": 273.9153846153846
                },
                {
                  "player": "Tom Scherrer",
                  "drive_avg": 275.96666666666664
                },
                {
                  "player": "Tom Sieckmann",
                  "drive_avg": 267.575
                },
                {
                  "player": "Tom Watson",
                  "drive_avg": 269.38
                },
                {
                  "player": "Tommy Armour III",
                  "drive_avg": 278.7333333333333
                },
                {
                  "player": "Tommy Biershenk",
                  "drive_avg": 285.4
                },
                {
                  "player": "Tommy Fleetwood",
                  "drive_avg": 303.03333333333336
                },
                {
                  "player": "Tommy Gainey",
                  "drive_avg": 295.44
                },
                {
                  "player": "Tommy Moore",
                  "drive_avg": 246.85
                },
                {
                  "player": "Tommy Nakajima",
                  "drive_avg": 264.4
                },
                {
                  "player": "Tommy Tolles",
                  "drive_avg": 278.5777777777778
                },
                {
                  "player": "Tony Finau",
                  "drive_avg": 309.14444444444445
                },
                {
                  "player": "Tony Grimes",
                  "drive_avg": 261.75
                },
                {
                  "player": "Tony Sills",
                  "drive_avg": 254.25
                },
                {
                  "player": "Travis Perkins",
                  "drive_avg": 299.6
                },
                {
                  "player": "Tray Tyner",
                  "drive_avg": 253.95
                },
                {
                  "player": "Trevor Cone",
                  "drive_avg": 315.5
                },
                {
                  "player": "Trevor Dodds",
                  "drive_avg": 268.5
                },
                {
                  "player": "Trevor Immelman",
                  "drive_avg": 289.25
                },
                {
                  "player": "Trevor Werbylo",
                  "drive_avg": 302.2
                },
                {
                  "player": "Trey Mullinax",
                  "drive_avg": 313.38
                },
                {
                  "player": "Tripp Isenhour",
                  "drive_avg": 283.675
                },
                {
                  "player": "Troy Kelly",
                  "drive_avg": 299.5
                },
                {
                  "player": "Troy Matteson",
                  "drive_avg": 297.6
                },
                {
                  "player": "Troy Merritt",
                  "drive_avg": 289.575
                },
                {
                  "player": "Ty Armstrong",
                  "drive_avg": 261.5
                },
                {
                  "player": "Ty Tryon",
                  "drive_avg": 295.9
                },
                {
                  "player": "Tyler Aldridge",
                  "drive_avg": 285.2
                },
                {
                  "player": "Tyler Duncan",
                  "drive_avg": 291.6666666666667
                },
                {
                  "player": "Tyler McCumber",
                  "drive_avg": 309.79999999999995
                },
                {
                  "player": "Tyrone Van Aswegen",
                  "drive_avg": 288.21999999999997
                },
                {
                  "player": "Tyrrell Hatton",
                  "drive_avg": 301.0833333333333
                },
                {
                  "player": "Tyson Alexander",
                  "drive_avg": 297.7
                },
                {
                  "player": "Vance Heafner",
                  "drive_avg": 256
                },
                {
                  "player": "Vance Veazey",
                  "drive_avg": 286.25
                },
                {
                  "player": "Vaughn Taylor",
                  "drive_avg": 285.38235294117646
                },
                {
                  "player": "Vijay Singh",
                  "drive_avg": 289.52608695652174
                },
                {
                  "player": "Viktor Hovland",
                  "drive_avg": 303.8
                },
                {
                  "player": "Vince Whaley",
                  "drive_avg": 299.8333333333333
                },
                {
                  "player": "Vincent Norrman",
                  "drive_avg": 312.6
                },
                {
                  "player": "Wayne Grady",
                  "drive_avg": 253.9125
                },
                {
                  "player": "Wayne Levi",
                  "drive_avg": 258.23636363636365
                },
                {
                  "player": "Webb Heintzelman",
                  "drive_avg": 256.8
                },
                {
                  "player": "Webb Simpson",
                  "drive_avg": 290.85999999999996
                },
                {
                  "player": "Wes Roach",
                  "drive_avg": 293.075
                },
                {
                  "player": "Wes Short, Jr.",
                  "drive_avg": 291.6
                },
                {
                  "player": "Wesley Bryan",
                  "drive_avg": 285.8
                },
                {
                  "player": "Whee Kim",
                  "drive_avg": 286.02
                },
                {
                  "player": "Will Claxton",
                  "drive_avg": 287.65
                },
                {
                  "player": "Will Gordon",
                  "drive_avg": 311.09999999999997
                },
                {
                  "player": "Will MacKenzie",
                  "drive_avg": 291.3375
                },
                {
                  "player": "Will Strickler",
                  "drive_avg": 304.1
                },
                {
                  "player": "Will Wilcox",
                  "drive_avg": 295.59999999999997
                },
                {
                  "player": "Will Zalatoris",
                  "drive_avg": 311.04999999999995
                },
                {
                  "player": "William McGirt",
                  "drive_avg": 284.7625
                },
                {
                  "player": "Willie Wood",
                  "drive_avg": 256.6636363636364
                },
                {
                  "player": "Woody Austin",
                  "drive_avg": 281.9529411764706
                },
                {
                  "player": "Woody Blackburn",
                  "drive_avg": 253.9
                },
                {
                  "player": "Wyndham Clark",
                  "drive_avg": 312.72
                },
                {
                  "player": "Xander Schauffele",
                  "drive_avg": 305.7
                },
                {
                  "player": "Xinjun Zhang",
                  "drive_avg": 294.73333333333335
                },
                {
                  "player": "Y.E. Yang",
                  "drive_avg": 287.2142857142857
                },
                {
                  "player": "Yoshinori Mizumaki",
                  "drive_avg": 252.4
                },
                {
                  "player": "Zac Blair",
                  "drive_avg": 276.7
                },
                {
                  "player": "Zach Johnson",
                  "drive_avg": 283.78000000000003
                },
                {
                  "player": "Zack Miller",
                  "drive_avg": 299.5
                },
                {
                  "player": "Zack Sucher",
                  "drive_avg": 301.6
                },
                {
                  "player": "Zecheng Dou",
                  "drive_avg": 297.5
                },
                {
                  "player": "Ángel Cabrera",
                  "drive_avg": 300.23333333333335
                }
              ],
              "datalink": {
                "display_id": "42386c65-9f7c-4e03-af88-f5f2d015a1b8"
              }
            }
          },
          "metadata": {
            "application/vnd.dataresource+json": {
              "datalink": {
                "dataframe_info": {
                  "default_index_used": false,
                  "orig_size_bytes": 17792,
                  "orig_num_rows": 1112,
                  "orig_num_cols": 1,
                  "truncated_string_columns": [],
                  "truncated_size_bytes": 17792,
                  "truncated_num_rows": 1112,
                  "truncated_num_cols": 1
                },
                "dx_settings": {
                  "NUM_PAST_SAMPLES_TRACKED": 3,
                  "ENABLE_DATALINK": true,
                  "DISPLAY_MODE": "simple",
                  "GENERATE_DEX_METADATA": false,
                  "STRINGIFY_INDEX_VALUES": false,
                  "ALLOW_NOTEABLE_ATTRS": true,
                  "DISPLAY_MAX_COLUMNS": 100,
                  "HTML_TABLE_SCHEMA": false,
                  "SAMPLING_FACTOR": 0.1,
                  "LOG_LEVEL": 30,
                  "ENABLE_ASSIGNMENT": true,
                  "FLATTEN_INDEX_VALUES": false,
                  "DEV_MODE": false,
                  "COLUMN_SAMPLING_METHOD": "outer",
                  "FLATTEN_COLUMN_VALUES": true,
                  "DISPLAY_MAX_ROWS": 50000,
                  "ROW_SAMPLING_METHOD": "random",
                  "RANDOM_STATE": 12648430,
                  "DB_LOCATION": ":memory:",
                  "STRINGIFY_COLUMN_VALUES": true,
                  "SAMPLING_METHOD": "random",
                  "MAX_STRING_LENGTH": 250,
                  "MAX_RENDER_SIZE_BYTES": 104857600,
                  "RESET_INDEX_VALUES": false
                },
                "display_id": "42386c65-9f7c-4e03-af88-f5f2d015a1b8",
                "applied_filters": [],
                "sample_history": [],
                "sampling_time": "2023-05-31T21:10:36.223884",
                "variable_name": "unk_dataframe_bab89b0fb54f440abee5ca98fff624db",
                "user_variable_name": null
              },
              "display_id": "42386c65-9f7c-4e03-af88-f5f2d015a1b8"
            }
          }
        }
      ],
      "execution_count": null,
      "metadata": {
        "jupyter": {
          "outputs_hidden": false,
          "source_hidden": false
        },
        "noteable": {
          "cell_type": "code"
        },
        "ExecuteTime": {
          "end_time": "2023-05-31T21:10:36.383090+00:00",
          "start_time": "2023-05-31T21:10:36.186199+00:00"
        },
        "datalink": {
          "42386c65-9f7c-4e03-af88-f5f2d015a1b8": {
            "applied_filters": [],
            "dataframe_info": {
              "default_index_used": false,
              "orig_num_cols": 1,
              "orig_num_rows": 1112,
              "orig_size_bytes": 17792,
              "truncated_num_cols": 1,
              "truncated_num_rows": 1112,
              "truncated_size_bytes": 17792,
              "truncated_string_columns": []
            },
            "display_id": "42386c65-9f7c-4e03-af88-f5f2d015a1b8",
            "dx_settings": {
              "ALLOW_NOTEABLE_ATTRS": true,
              "COLUMN_SAMPLING_METHOD": "outer",
              "DB_LOCATION": ":memory:",
              "DEV_MODE": false,
              "DISPLAY_MAX_COLUMNS": 100,
              "DISPLAY_MAX_ROWS": 50000,
              "DISPLAY_MODE": "simple",
              "ENABLE_ASSIGNMENT": true,
              "ENABLE_DATALINK": true,
              "FLATTEN_COLUMN_VALUES": true,
              "FLATTEN_INDEX_VALUES": false,
              "GENERATE_DEX_METADATA": false,
              "HTML_TABLE_SCHEMA": false,
              "LOG_LEVEL": 30,
              "MAX_RENDER_SIZE_BYTES": 104857600,
              "MAX_STRING_LENGTH": 250,
              "NUM_PAST_SAMPLES_TRACKED": 3,
              "RANDOM_STATE": 12648430,
              "RESET_INDEX_VALUES": false,
              "ROW_SAMPLING_METHOD": "random",
              "SAMPLING_FACTOR": 0.1,
              "SAMPLING_METHOD": "random",
              "STRINGIFY_COLUMN_VALUES": true,
              "STRINGIFY_INDEX_VALUES": false
            },
            "sample_history": [],
            "sampling_time": "2023-05-31T21:10:36.223884",
            "user_variable_name": null,
            "variable_name": "unk_dataframe_bab89b0fb54f440abee5ca98fff624db"
          }
        }
      },
      "id": "10a8aced-b617-40e8-838f-65d0a1f9bd02"
    },
    {
      "cell_type": "code",
      "source": [
        "from sklearn.linear_model import LinearRegression\n",
        "import numpy as np\n",
        "\n",
        "predictions = {}\n",
        "for player in df['player'].unique():\n",
        "    player_data = df[df['player'] == player]\n",
        "    X = player_data['year'].values.reshape(-1, 1)\n",
        "    y = player_data['drive_avg'].values\n",
        "    model = LinearRegression()\n",
        "    model.fit(X, y)\n",
        "    years = np.arange(df['year'].max() + 1, 2100).reshape(-1, 1)\n",
        "    pred = model.predict(years)\n",
        "    try:\n",
        "        year_317 = years[pred >= 317][0][0]\n",
        "    except IndexError:\n",
        "        year_317 = 'Never'\n",
        "    predictions[player] = year_317\n",
        "predictions"
      ],
      "outputs": [
        {
          "output_type": "execute_result",
          "execution_count": null,
          "data": {
            "text/plain": "{'Payne Stewart': 'Never',\n 'Dan Pohl': 'Never',\n 'Lanny Wadkins': 'Never',\n 'Paul Azinger': 2039,\n 'David Frost': 2054,\n 'Bernhard Langer': 2031,\n 'Curtis Strange': 'Never',\n 'Hal Sutton': 2030,\n 'Scott Hoch': 2048,\n \"Mark O'Meara\": 2055,\n 'Steve Pate': 2064,\n 'Craig Stadler': 'Never',\n 'Tom Kite': 2049,\n 'Fred Couples': 2024,\n 'Tom Watson': 'Never',\n 'Ben Crenshaw': 'Never',\n 'Gil Morgan': 'Never',\n 'Greg Norman': 'Never',\n 'Bobby Wadkins': 'Never',\n 'Hale Irwin': 'Never',\n 'Corey Pavin': 2099,\n 'Mike Reid': 'Never',\n 'Richard Zokol': 2069,\n 'Larry Mize': 2041,\n 'Dave Barr': 'Never',\n 'Don Pooley': 'Never',\n 'Fuzzy Zoeller': 'Never',\n 'Larry Nelson': 2064,\n 'John Mahaffey': 'Never',\n 'Scott Simpson': 2038,\n 'Jack Renner': 'Never',\n 'Jay Haas': 2041,\n 'Nick Price': 2060,\n 'T.C. Chen': 'Never',\n 'Mark McCumber': 'Never',\n 'Frank Conner': 'Never',\n 'John Cook': 2047,\n 'Ed Dougherty': 'Never',\n 'Raymond Floyd': 2034,\n 'Billy Pierot': 'Never',\n 'Chip Beck': 'Never',\n 'Ed Fiori': 'Never',\n 'Dick Mast': 'Never',\n 'Ken Brown': 2024,\n 'Danny Edwards': 'Never',\n 'Calvin Peete': 'Never',\n 'Mark Calcavecchia': 2046,\n 'Bruce Lietzke': 'Never',\n 'D.A. Weibring': 2089,\n 'Wayne Levi': 'Never',\n 'David Edwards': 'Never',\n 'Bob Tway': 2032,\n 'J.C. Snead': 2025,\n 'Curt Byrum': 'Never',\n 'Mike Nicolette': 'Never',\n 'Jay Don Blake': 'Never',\n 'Jim Carter': 2066,\n 'Dave Rummells': 'Never',\n 'Doug Tewell': 'Never',\n 'Bobby Clampett': 'Never',\n 'Tim Simpson': 'Never',\n 'Dewey Arnette': 'Never',\n 'Tom Purtzer': 2066,\n 'Chris Perry': 2034,\n 'Jodie Mudd': 'Never',\n 'Jeff Sluman': 2035,\n 'Ron Streck': 'Never',\n 'Ronnie Black': 2053,\n 'Sandy Lyle': 'Never',\n 'Ken Green': 'Never',\n 'Roger Maltbie': 'Never',\n 'Denis Watson': 'Never',\n 'George Burns': 'Never',\n 'Davis Love III': 2028,\n 'Buddy Gardner': 'Never',\n 'Robert Thompson': 'Never',\n 'Rick Fehr': 2050,\n 'Russ Cochran': 2038,\n 'Peter Jacobsen': 2031,\n 'Howard Twitty': 2086,\n 'Willie Wood': 'Never',\n 'Andy Bean': 'Never',\n 'Tony Sills': 'Never',\n 'Brad Faxon': 2079,\n 'Bill Glasson': 2065,\n 'Andrew Magee': 2027,\n \"Mac O'Grady\": 'Never',\n 'David Graham': 'Never',\n 'Mike McCullough': 'Never',\n 'Donnie Hammond': 2052,\n 'Gene Sauers': 2073,\n 'Ted Schulz': 'Never',\n 'Joey Sindelar': 2037,\n 'Jim Simons': 'Never',\n 'Keith Clearwater': 2079,\n 'Andy North': 'Never',\n 'Dave Stockton': 'Never',\n 'Tony Grimes': 'Never',\n 'Gary Koch': 'Never',\n 'Bob Eastwood': 'Never',\n 'Lon Hinkle': 'Never',\n 'Kenny Perry': 2024,\n 'Bill Rogers': 'Never',\n 'Dave Eichelberger': 2057,\n 'Larry Rinker': 'Never',\n 'Clarence Rose': 'Never',\n 'Sam Randolph': 'Never',\n 'Bobby Cole': 'Never',\n 'Morris Hatalsky': 'Never',\n 'Robert Wrenn': 'Never',\n 'Tom Byrum': 2037,\n 'Gary Hallberg': 2063,\n 'Don Shirey, Jr.': 'Never',\n 'Lennie Clements': 'Never',\n 'Mike Smith': 'Never',\n 'Scott Verplank': 2044,\n 'Bill Britton': 'Never',\n 'Dan Halldorson': 'Never',\n 'Vance Heafner': 'Never',\n 'Bob Murphy': 2024,\n 'Aki Ohmachi': 'Never',\n 'Loren Roberts': 2055,\n 'Mark Lye': 2065,\n 'Rex Caldwell': 2038,\n 'Harry Taylor': 'Never',\n 'Steve Jones': 2055,\n 'Rocco Mediate': 2051,\n 'Antonio Cerda': 'Never',\n 'Brad Fabel': 2094,\n 'John Inman': 'Never',\n 'Mark Pfeil': 'Never',\n 'Andy Dillard': 'Never',\n 'Mike Hulbert': 'Never',\n 'Kenny Knox': 'Never',\n 'Blaine McCallister': 2075,\n 'Mike Sullivan': 'Never',\n 'Ray Barr, Jr.': 'Never',\n 'Gary Krueger': 'Never',\n 'Mike Donald': 'Never',\n 'Bruce Soulsby': 'Never',\n 'David Canipe': 'Never',\n 'Leonard Thompson': 'Never',\n 'Jim Thorpe': 'Never',\n 'Charles Bolling': 'Never',\n 'Trevor Dodds': 'Never',\n 'Bob Gilder': 'Never',\n 'Denny Hepler': 'Never',\n 'Tim Norris': 'Never',\n 'Mark Wiebe': 2051,\n 'Bob Lohr': 'Never',\n 'Bill Sander': 'Never',\n 'Mark Brooks': 2054,\n 'John Riegger': 2030,\n 'Mark Hayes': 2024,\n 'David Ogrin': 2062,\n 'Perry Arthur': 'Never',\n 'Barry Jaeckel': 2097,\n 'Billy Kratzert': 'Never',\n 'John Adams': 2036,\n 'Brian Claar': 2074,\n 'David Hobby': 'Never',\n 'Hubert Green': 'Never',\n 'Dan Forsman': 2062,\n 'Duffy Waldorf': 2044,\n 'Phil Blackmar': 'Never',\n 'John McComish': 'Never',\n 'Ray Stewart': 'Never',\n 'Jay Delsing': 2042,\n 'Steve Elkington': 2037,\n 'Brad Greer': 'Never',\n 'Philip Jonas': 'Never',\n 'Jeff Lewis': 'Never',\n 'Brett Upper': 2024,\n 'John Horne': 'Never',\n 'Pat McGowan': 'Never',\n 'Doug Johnson': 'Never',\n 'David Peoples': 2034,\n 'Mike Bender': 'Never',\n 'Jim Wilson': 'Never',\n 'Tom Sieckmann': 'Never',\n 'Tom Garner': 'Never',\n 'Fred Wadsworth': 2024,\n 'Rick Dalpos': 'Never',\n 'Jim Nelford': 2024,\n 'Jim Gallagher, Jr.': 2037,\n 'Ernie Gonzalez': 'Never',\n 'Ted Lehmann': 'Never',\n 'Woody Blackburn': 'Never',\n 'Tommy Nakajima': 'Never',\n 'Wayne Grady': 'Never',\n 'Lance Ten Broeck': 'Never',\n 'George Archer': 'Never',\n 'Tommy Armour III': 2036,\n 'Kim Young': 'Never',\n 'Brian Tennyson': 'Never',\n 'Fulton Allem': 'Never',\n 'Brad Bryant': 'Never',\n 'Clark Burroughs': 'Never',\n 'Rick Pearson': 2057,\n 'Jim Hallet': 'Never',\n 'Dillard Pruitt': 'Never',\n 'Billy Ray Brown': 'Never',\n 'Joey Rassett': 'Never',\n 'Jim Booros': 'Never',\n 'Billy Andrade': 2026,\n 'Greg Powers': 'Never',\n 'Roy Biancalana': 'Never',\n 'John Huston': 2027,\n 'Bill Buttner': 'Never',\n 'Bob Proben': 'Never',\n 'Steve Thomas': 'Never',\n 'Bruce Zabriski': 'Never',\n 'Mike Hammond': 'Never',\n 'Steve Lowery': 2026,\n 'Brandel Chamblee': 2036,\n 'Greg Ladehoff': 'Never',\n 'Richard Cromwell': 'Never',\n 'Brian Mogg': 'Never',\n 'Danny Briggs': 2040,\n 'Mike Blackburn': 'Never',\n 'Tom Pernice Jr.': 2053,\n 'Barry Cheesman': 2029,\n 'Mark Maness': 'Never',\n 'Jeff Coston': 'Never',\n 'Paul Trittler': 'Never',\n 'Ian Baker-Finch': 'Never',\n 'Ronnie McCann': 'Never',\n 'Bob Wolcott': 'Never',\n 'Jeff Hart': 2088,\n 'Larry Silveira': 2055,\n 'Isao Aoki': 'Never',\n 'Nick Faldo': 2044,\n 'Karl Kimball': 'Never',\n 'Steve Hart': 'Never',\n 'Nolan Henke': 'Never',\n 'Mike Miles': 'Never',\n 'Bob Estes': 2032,\n 'J.L. Lewis': 2031,\n 'Webb Heintzelman': 'Never',\n 'Jack Kay Jr.': 'Never',\n 'Jerry Pate': 2034,\n 'David Jackson': 'Never',\n 'Fred Funk': 2036,\n 'Robin Freeman': 2027,\n 'P.H. Horgan III': 2090,\n 'Joel Edwards': 2028,\n 'Billy Mayfair': 2032,\n 'Ed Humenik': 'Never',\n 'Charlie Bowles': 'Never',\n 'Billy Tuten': 'Never',\n 'Doug Weaver': 'Never',\n 'Don Reese': 'Never',\n 'Jim Benepe': 'Never',\n 'Greg Twiggs': 'Never',\n 'Neal Lancaster': 2029,\n 'Mitch Adcock': 'Never',\n 'Kirk Triplett': 2028,\n 'Jack Ferenz': 'Never',\n 'Tommy Moore': 2024,\n 'Robert Gamez': 2040,\n 'Lee Janzen': 2028,\n 'Steve Lamontagne': 2069,\n 'Tom Eubank': 'Never',\n 'Patrick Burke': 'Never',\n 'Clark Dennis': 2088,\n 'John Dowdall': 'Never',\n 'Mike Schuchart': 'Never',\n 'Greg Hickman': 'Never',\n 'Jim Woodward': 'Never',\n 'Jerry Anderson': 'Never',\n 'Jerry Haas': 'Never',\n 'Brian Kamm': 'Never',\n 'Jeffrey Wilson': 'Never',\n 'Emlyn Aubrey': 2061,\n 'Peter Persons': 'Never',\n 'Sean Murphy': 2045,\n 'Michael Allen': 2024,\n 'Carl Cooper': 2024,\n 'Greg Bruckner': 'Never',\n 'Grant Waite': 2024,\n 'Dennis Harrington': 'Never',\n 'Stan Utley': 'Never',\n 'Sonny Skinner': 2062,\n 'Rick Todd': 'Never',\n 'JC Anderson': 'Never',\n 'Scott Gump': 'Never',\n 'Mike Springer': 'Never',\n 'Bart Bryant': 2030,\n 'Brad Bell': 2024,\n 'Jeff Maggert': 2046,\n 'Bryan Norton': 'Never',\n 'Marco Dawson': 2030,\n 'John Wilson': 'Never',\n 'Greg Whisman': 'Never',\n 'Dudley Hart': 2031,\n 'Jim McGovern': 2038,\n 'Brandt Jobe': 2026,\n 'John Daly': 2024,\n 'Brian Watts': 2024,\n 'Ken Schall': 'Never',\n 'Mike Standly': 'Never',\n 'Craig Rudolph': 'Never',\n 'Brad Lardon': 2024,\n 'David Sutherland': 2024,\n 'Dicky Thompson': 'Never',\n 'Tom Lehman': 2040,\n 'Bruce Fleisher': 2045,\n 'David Toms': 2089,\n 'Tray Tyner': 'Never',\n 'Dave Peege': 'Never',\n 'Kelly Gibson': 2024,\n 'Greg Lesher': 'Never',\n 'John Ross': 'Never',\n 'John Elliott': 2024,\n 'Greg Kraft': 2050,\n 'Mark Carnevale': 2028,\n 'Fran Quinn': 'Never',\n 'Bob Friend': 2043,\n 'E.J. Pfister': 'Never',\n 'Olin Browne': 2035,\n 'Michael Cunning': 'Never',\n 'J.P. Hayes': 2029,\n 'Doug Martin': 2078,\n 'Jon Chaffee': 'Never',\n 'Chris Tucker': 'Never',\n 'Dave Schreyer': 'Never',\n 'Craig Parry': 2028,\n 'Jeff Cook': 'Never',\n 'Bill Murchison': 'Never',\n 'Phil Mickelson': 2035,\n 'Gene Jones': 'Never',\n 'Jaime Gomez': 'Never',\n 'Brett Ogle': 2039,\n 'Brian Henninger': 2026,\n 'Russell Beiersdorf': 'Never',\n 'Tim Conley': 2024,\n 'Skip Kendall': 2031,\n 'Paul Goydos': 2057,\n 'Lee Porter': 2035,\n 'Jeff Woodland': 'Never',\n 'Ted Tryba': 2024,\n 'Len Mattiace': 2024,\n 'Neale Smith': 'Never',\n 'Greg Cesario': 'Never',\n 'Massy Kuramoto': 'Never',\n 'Marty Schiene': 'Never',\n 'Dennis Trixler': 'Never',\n 'Perry Moss': 2024,\n 'John Flannery': 'Never',\n 'Tad Rhyan': 'Never',\n 'Eddie Pearce': 'Never',\n 'David Delong': 'Never',\n 'Jimmy Johnston': 2024,\n 'Michael Bradley': 2051,\n 'Bob Burns': 2024,\n 'Steve Stricker': 2071,\n 'David Feherty': 'Never',\n 'Vijay Singh': 2048,\n 'Yoshinori Mizumaki': 'Never',\n 'Rob Boldt': 'Never',\n 'Guy Boros': 2037,\n 'Joe Ozaki': 2058,\n 'Jesper Parnevik': 2024,\n 'Steve Rintoul': 'Never',\n 'John Morse': 'Never',\n 'Glen Day': 2036,\n 'Jim Furyk': 2066,\n 'Steve Gotsche': 2024,\n 'Esteban Toledo': 2024,\n 'Pete Jordan': 'Never',\n 'Phil Tataurangi': 2024,\n 'Dennis Paulson': 2024,\n 'Eddie Kirby': 'Never',\n 'Paul Stankowski': 2025,\n 'Steve Brodie': 'Never',\n 'Mike Heinen': 2024,\n 'Chris DiMarco': 2069,\n 'Dave Stockton, Jr.': 2042,\n 'Todd Barranger': 2024,\n 'Mark Wurtz': 2024,\n 'Rocky Walcher': 2024,\n 'Charles Raulerson': 2024,\n 'Dicky Pride': 2043,\n 'Bob May': 2024,\n 'Ty Armstrong': 2024,\n 'Justin Leonard': 2065,\n 'Scott McCarron': 2059,\n 'Ernie Els': 2056,\n 'David Duval': 2036,\n 'Jonathan Kaye': 2024,\n 'Lee Rinker': 2065,\n 'Joe Acosta, Jr.': 2024,\n 'Tommy Tolles': 2024,\n 'Keith Fergus': 2024,\n 'Tom Hearn': 'Never',\n 'Woody Austin': 2059,\n 'Tim Loustalot': 2024,\n 'Omar Uresti': 2035,\n 'Carl Paulson': 2024,\n 'Charlie Rymer': 'Never',\n 'Bruce Vaughan': 'Never',\n 'Jay Williamson': 2033,\n 'Pat Bates': 2096,\n 'Kawika Cotner': 'Never',\n 'Bill Porter': 'Never',\n 'Mike Brisky': 2024,\n 'Jeff Leonard': 'Never',\n 'John Maginnes': 2029,\n 'Stuart Appleby': 'Never',\n 'Scott Dunlap': 2051,\n 'Hisayuki Sasaki': 'Never',\n 'Allen Doyle': 'Never',\n 'Jerry Kelly': 'Never',\n 'Ron Whittaker': 2031,\n 'Taylor Smith': 'Never',\n 'Frank Lickliter II': 2024,\n 'Gary Rusnak': 'Never',\n 'Tim Herron': 2068,\n 'Steve Jurgensen': 2082,\n 'Hugh Royer III': 2028,\n 'Scott Medlin': 'Never',\n 'Joe Daley': 'Never',\n 'Jeff Julian': 2045,\n 'Kevin Sutherland': 2024,\n 'Jeff Gallagher': 2024,\n 'Bryan Gorman': 'Never',\n 'Franklin Langham': 2027,\n 'Lucas Parsons': 'Never',\n 'Shane Bertsch': 2033,\n 'Joey Gullion': 'Never',\n 'Mike Swartz': 'Never',\n 'Tom Scherrer': 2027,\n 'Chris Smith': 2024,\n 'Brent Geiberger': 2024,\n 'Tiger Woods': 2076,\n 'David Berganio, Jr.': 2024,\n 'Michael Christie': 'Never',\n 'Robert Damron': 2074,\n 'Stewart Cink': 2034,\n 'Doug Barron': 2035,\n 'Gabriel Hjertstedt': 2024,\n 'Craig Kanada': 2072,\n 'Paul Claxton': 2031,\n 'Frank Nobilo': 2036,\n 'Spike McRoy': 2024,\n 'Joe Durant': 2036,\n 'Rafael Alarcon': 'Never',\n 'Craig Bowden': 2065,\n 'Kevin Burton': 'Never',\n 'Shaun Micheel': 2056,\n 'Bradley Hughes': 2024,\n 'Jimmy Green': 2024,\n \"Jack O'Keefe\": 'Never',\n 'Brett Quigley': 2038,\n 'Todd Demsey': 2024,\n 'Eric Johnson': 'Never',\n 'Anthony Rodriguez': 'Never',\n 'Chip Sullivan': 'Never',\n 'Hideki Kase': 'Never',\n 'Stephen Ames': 2059,\n 'Steve Flesch': 'Never',\n 'Ben Bates': 2024,\n 'Mike Weir': 'Never',\n 'Craig Barlow': 2024,\n 'Bobby Gage': 'Never',\n 'Richie Coughlan': 'Never',\n 'Kevin Wentworth': 'Never',\n 'Harrison Frazar': 2024,\n 'Glen Hnatiuk': 2024,\n 'Mike Small': 'Never',\n 'Jim Estes': 'Never',\n 'Keith Nolan': 'Never',\n 'R.W. Eaks': 'Never',\n 'Kent Jones': 2034,\n 'Iain Steel': 'Never',\n 'Guy Hill': 'Never',\n 'Vance Veazey': 'Never',\n 'Robert Allenby': 'Never',\n 'Chris Riley': 2070,\n 'Greg Chalmers': 'Never',\n 'Katsumasa Miyamoto': 'Never',\n 'Notah Begay III': 2054,\n 'Brian Gay': 2080,\n 'Carlos Franco': 2024,\n 'Eric Booker': 'Never',\n 'Rich Beem': 2046,\n 'Joe Ogilvie': 2033,\n 'Mike Sposa': 2024,\n 'Jeff Brehaut': 2024,\n 'Rory Sabbatini': 'Never',\n 'Deane Pappas': 2024,\n 'Doug Dunakey': 2024,\n 'Briny Baird': 'Never',\n 'Cameron Beckman': 'Never',\n 'Alan Bratton': 'Never',\n 'Charles Warren': 2024,\n 'Ted Purdy': 2024,\n 'Chris Couch': 'Never',\n 'David Seawell': 'Never',\n 'Geoffrey Sisk': 'Never',\n 'Bo Van Pelt': 'Never',\n 'Jean Van de Velde': 'Never',\n 'Edward Fryatt': 2024,\n 'K.J. Choi': 'Never',\n 'Shigeki Maruyama': 'Never',\n 'Sergio Garcia': 2039,\n 'Michael Clark II': 'Never',\n 'Craig Perks': 2024,\n 'Jerry Smith': 2030,\n 'Brad Elder': 2027,\n 'Casey Martin': 'Never',\n 'Jason Buha': 2024,\n 'Matt Gogel': 2024,\n 'Mathew Goggin': 'Never',\n 'Bob Heintz': 2061,\n 'Paul Curry': 'Never',\n 'Jeff Gove': 2026,\n 'Bobby Cochran': 'Never',\n 'John Rollins': 2031,\n 'Gary Nicklaus': 2024,\n 'Ryan Howison': 'Never',\n 'David Morland IV': 'Never',\n 'Craig Spence': 'Never',\n 'Jason Caron': 2024,\n 'Aaron Bengoechea': 'Never',\n 'Charles Howell III': 2052,\n 'Per-Ulrik Johansson': 2024,\n 'José Coceres': 2076,\n 'José María Olazábal': 2024,\n 'J.J. Henry': 'Never',\n 'Andrew McLardy': 2050,\n 'Kaname Yokoo': 'Never',\n 'Paul Gow': 'Never',\n 'Jeremy Anderson': 'Never',\n 'Ian Leggatt': 2024,\n 'Brent Schwarzrock': 2024,\n 'Michael Muehr': 'Never',\n 'Tripp Isenhour': 2026,\n 'Chris Tidland': 'Never',\n 'Kevin Johnson': 'Never',\n 'Danny Ellis': 2025,\n 'Brian Wilson': 'Never',\n 'Geoff Ogilvy': 'Never',\n 'Cliff Kresge': 'Never',\n 'Jason Gore': 'Never',\n 'Kelly Grunewald': 'Never',\n 'Garrett Willis': 'Never',\n 'Mark Hensby': 2030,\n 'Ben Ferguson': 'Never',\n 'Steve Allan': 2024,\n 'Hunter Haas': 2073,\n 'Luke Donald': 'Never',\n 'Peter Lonard': 'Never',\n 'Retief Goosen': 'Never',\n 'Rod Pampling': 'Never',\n 'Chad Campbell': 'Never',\n 'Ben Crane': 'Never',\n 'Tim Petrovic': 'Never',\n 'David Gossett': 2027,\n 'John Senden': 'Never',\n 'Jonathan Byrd': 'Never',\n 'Tim Clark': 'Never',\n 'Matt Peterson': 'Never',\n 'Hidemichi Tanaka': 'Never',\n 'Matt Kuchar': 2067,\n 'Pat Perez': 'Never',\n 'Stephen Gangluff': 2061,\n 'Bryce Molder': 'Never',\n 'Eduardo Herrera': 'Never',\n 'Miguel Angel Jiménez': 'Never',\n 'Heath Slocum': 'Never',\n 'Boo Weekley': 'Never',\n 'Michael Long': 2024,\n 'Jess Daley': 'Never',\n 'Brian Bateman': 'Never',\n 'Kenneth Staton': 2024,\n 'Jason Hill': 'Never',\n 'Brenden Pappas': 'Never',\n 'Brett Wetterich': 2024,\n 'Arron Oberholser': 'Never',\n 'Tom Gillis': 'Never',\n 'Richard Johnson': 'Never',\n 'Patrick Sheehan': 'Never',\n 'Alex Cejka': 'Never',\n 'Darren Clarke': 'Never',\n 'Scott Laycock': 'Never',\n 'Hank Kuehne': 'Never',\n 'Aaron Barber': 'Never',\n 'Adam Scott': 2037,\n 'Aaron Baddeley': 'Never',\n 'Carl Pettersson': 'Never',\n 'Chris Anderson': 'Never',\n 'Ben Curtis': 'Never',\n 'Mike Grob': 'Never',\n 'Dean Wilson': 'Never',\n 'Todd Fischer': 'Never',\n 'Mark Wilson': 'Never',\n 'Akio Sadakata': 'Never',\n 'John Morgan': 'Never',\n 'Thomas Levet': 'Never',\n 'Cameron Yancey': 'Never',\n 'Darron Stiles': 'Never',\n 'Ty Tryon': 'Never',\n 'Andy Miller': 'Never',\n 'Gavin Coles': 'Never',\n 'Steven Alker': 'Never',\n 'Jeff Klein': 'Never',\n 'Kenichi Kuboya': 'Never',\n 'Anthony Painter': 'Never',\n 'Justin Rose': 2048,\n 'Zach Johnson': 'Never',\n 'Roland Thatcher': 'Never',\n 'Freddie Jacobson': 'Never',\n 'Kevin Na': 2096,\n 'Vaughn Taylor': 'Never',\n 'Hunter Mahan': 'Never',\n 'Brian Kortan': 'Never',\n 'Tag Ridings': 'Never',\n 'Jason Bohn': 'Never',\n 'Niclas Fasth': 'Never',\n 'Jason Dufner': 2097,\n 'Ryan Palmer': 2046,\n 'D.J. Brigman': 'Never',\n 'Lucas Glover': 'Never',\n 'Rich Barcelo': 'Never',\n 'Kris Cox': 'Never',\n 'Stephen Leaney': 'Never',\n 'Andre Stolz': 'Never',\n 'Daniel Chopra': 'Never',\n 'Mathias Grönberg': 'Never',\n 'Arjun Atwal': 'Never',\n 'Todd Hamilton': 'Never',\n 'Kevin Muncrief': 'Never',\n 'David Branshaw': 2033,\n 'Dan Olsen': 'Never',\n 'Ken Duke': 'Never',\n 'Roger Tambellini': 'Never',\n 'Tom Carter': 'Never',\n 'Scott Hend': 2024,\n 'Hirofumi Miyase': 'Never',\n 'Scott Gutschewski': 'Never',\n 'Ryuji Imada': 'Never',\n 'Brian Davis': 'Never',\n 'David Hearn': 'Never',\n \"Sean O'Hair\": 'Never',\n 'Tjaart van der Walt': 'Never',\n 'Joey Snyder III': 'Never',\n 'Mario Tiziani': 'Never',\n 'Phillip Price': 'Never',\n 'Greg Owen': 'Never',\n 'Justin Bolli': 'Never',\n 'Nick Watney': 'Never',\n 'D.J. Trahan': 'Never',\n 'Padraig Harrington': 'Never',\n 'Lee Westwood': 'Never',\n 'Charlie Wi': 'Never',\n 'Brendan Jones': 'Never',\n 'Will MacKenzie': 'Never',\n 'Matt Davidson': 'Never',\n 'D.A. Points': 'Never',\n 'Ian Poulter': 2089,\n 'Hideto Tanihara': 'Never',\n 'Kevin Stadler': 'Never',\n 'Rob Rashell': 'Never',\n 'James Driscoll': 'Never',\n 'Jason Allred': 'Never',\n 'Trevor Immelman': 'Never',\n 'Bubba Watson': 'Never',\n 'Camilo Villegas': 'Never',\n 'Charley Hoffman': 'Never',\n 'David McKenzie': 'Never',\n 'Jeff Overton': 'Never',\n 'Matt Hansen': 'Never',\n 'Eric Axley': 'Never',\n 'Daisuke Maruyama': 2024,\n 'David Howell': 'Never',\n 'Nathan Green': 'Never',\n 'Ryan Moore': 'Never',\n 'Bill Haas': 'Never',\n 'Troy Matteson': 'Never',\n 'Henrik Bjornstad': 'Never',\n 'Ryan Hietala': 'Never',\n 'Michael Connell': 'Never',\n 'Robert Garrigus': 'Never',\n 'Bubba Dickerson': 'Never',\n 'Jason Schultz': 2024,\n 'Jimmy Walker': 2050,\n 'J.B. Holmes': 'Never',\n 'Alex Aragon': 'Never',\n 'Jon Mills': 'Never',\n 'Nicholas Thompson': 'Never',\n 'John Engler, Jr.': 'Never',\n 'Wes Short, Jr.': 'Never',\n 'Michael Sim': 'Never',\n 'Jarrod Lyle': 'Never',\n 'Brandt Snedeker': 2075,\n 'Anthony Kim': 'Never',\n 'Chris Stroud': 'Never',\n 'Craig Lile': 'Never',\n 'Michael Boyd': 'Never',\n 'John Merrick': 'Never',\n 'Jaco Van Zyl': 'Never',\n 'Brendon de Jonge': 'Never',\n 'Ryan Armour': 'Never',\n 'Jeff Quinney': 'Never',\n 'Doug LaBelle II': 'Never',\n 'Henrik Stenson': 'Never',\n 'Parker McLachlin': 'Never',\n 'Steve Wheatcroft': 'Never',\n 'Anders Hansen': 'Never',\n 'George McNeill': 'Never',\n 'Andrew Buckle': 'Never',\n 'Steve Marino': 'Never',\n \"Nick O'Hern\": 'Never',\n 'John Mallinger': 'Never',\n 'Johnson Wagner': 'Never',\n 'Matt Hendrix': 'Never',\n 'Tom Johnson': 'Never',\n 'Jim Rutledge': 'Never',\n 'Kyle Reifers': 'Never',\n 'Michael Putnam': 'Never',\n 'Michael Letzig': 'Never',\n 'Kevin Streelman': 'Never',\n 'Alejandro Cañizares': 'Never',\n 'Tim Wilkinson': 'Never',\n 'Scott Sterling': 2045,\n 'Kenneth Ferrie': 'Never',\n 'Brad Adamonis': 'Never',\n 'Chez Reavie': 'Never',\n 'Jason Day': 2068,\n 'Paul Casey': 2044,\n 'Chad Collins': 'Never',\n 'Matt Jones': 2043,\n 'Dustin Johnson': 2030,\n 'Marc Turnesa': 'Never',\n 'Tommy Gainey': 'Never',\n 'David Lutterus': 2024,\n 'Bob Sowards': 'Never',\n 'Ángel Cabrera': 'Never',\n 'Martin Laird': 'Never',\n 'Nick Flanagan': 'Never',\n 'Travis Perkins': 'Never',\n 'Y.E. Yang': 'Never',\n 'Cody Freeman': 'Never',\n 'Jin Park': 'Never',\n 'Kyle Thompson': 'Never',\n 'Andres Romero': 'Never',\n 'Brett Rumford': 'Never',\n 'Marc Leishman': 2063,\n 'Jeff Klauk': 'Never',\n 'Webb Simpson': 2052,\n 'Matt Weibring': 'Never',\n 'Spencer Levin': 'Never',\n 'Bill Lunde': 'Never',\n 'Kris Blanks': 'Never',\n 'James Nitties': 'Never',\n 'Colt Knost': 'Never',\n 'Scott Piercy': 'Never',\n 'Ricky Barnes': 'Never',\n 'David Mathis': 'Never',\n 'Casey Wittenberg': 'Never',\n 'Brian Vranesh': 'Never',\n 'Aron Price': 2034,\n 'Rick Price': 'Never',\n 'Peter Tomasulo': 'Never',\n 'Derek Fathauer': 'Never',\n 'Leif Olson': 'Never',\n 'Brendon Todd': 'Never',\n 'Gary Woodland': 2040,\n 'Matt Bettencourt': 'Never',\n 'Graham DeLaet': 'Never',\n 'Rory McIlroy': 2024,\n 'Jeev Milkha Singh': 'Never',\n 'Matt Every': 2052,\n 'Rickie Fowler': 2037,\n 'Blake Adams': 'Never',\n 'Alex Prugh': 2043,\n 'Cameron Percy': 'Never',\n 'Brent Delahoussaye': 'Never',\n 'Cameron Tringale': 2048,\n 'Brian Stuard': 'Never',\n 'Josh Teater': 'Never',\n 'Garth Mulroy': 'Never',\n 'Chris Wilson': 'Never',\n 'Troy Merritt': 2079,\n 'Martin Flores': 'Never',\n 'Jerod Turner': 'Never',\n 'Derek Lamely': 'Never',\n 'Charl Schwartzel': 2046,\n 'Chris Kirk': 2074,\n 'William McGirt': 'Never',\n 'Robert Karlsson': 'Never',\n 'Graeme McDowell': 'Never',\n 'Sung Kang': 2061,\n 'Kyle Stanley': 'Never',\n 'Michael Thompson': 'Never',\n 'Matt McQuillan': 'Never',\n 'Jim Renner': 'Never',\n 'Keegan Bradley': 'Never',\n 'Jhonattan Vegas': 2029,\n 'Kevin Chappell': 2032,\n 'Joseph Bramlett': 2027,\n 'Jim Herman': 'Never',\n 'Andres Gonzales': 2043,\n 'Billy Horschel': 2063,\n 'Kevin Kisner': 'Never',\n 'Ben Martin': 'Never',\n 'Will Strickler': 'Never',\n 'Nate Smith': 'Never',\n 'Scott Stallings': 'Never',\n 'Bobby Gates': 'Never',\n 'Alexandre Rocha': 'Never',\n 'Justin Hicks': 'Never',\n 'Steven Bowditch': 'Never',\n 'Daniel Summerhays': 'Never',\n 'Brendan Steele': 2030,\n 'Fabián Gómez': 'Never',\n 'Bio Kim': 'Never',\n 'Martin Piller': 'Never',\n 'Zack Miller': 'Never',\n 'Jonas Blixt': 2042,\n 'Will Claxton': 'Never',\n 'Russell Knox': 2072,\n 'Louis Oosthuizen': 'Never',\n 'Danny Lee': 2041,\n 'Bud Cauley': 2086,\n 'Roberto Castro': 'Never',\n 'S.Y. Noh': 2087,\n 'Charlie Beljan': 2053,\n 'Miguel Angel Carballo': 'Never',\n 'Richard Lee': 'Never',\n 'John Huh': 2056,\n 'Edward Loar': 'Never',\n 'Harris English': 'Never',\n 'Troy Kelly': 'Never',\n 'Erik Compton': 'Never',\n 'Gary Christian': 'Never',\n 'Brian Harman': 2073,\n 'Scott Brown': 'Never',\n 'Ted Potter, Jr.': 2059,\n 'Mark Anderson': 'Never',\n 'Jason Kokrak': 2032,\n 'Ryo Ishikawa': 'Never',\n 'J.J. Killeen': 'Never',\n 'Sangmoon Bae': 2036,\n 'Billy Hurley III': 2051,\n 'Tommy Biershenk': 'Never',\n 'Jordan Spieth': 2030,\n 'Morgan Hoffmann': 'Never',\n 'Aaron Watkins': 'Never',\n 'Russell Henley': 'Never',\n 'D.H. Lee': 'Never',\n 'David Lingmerth': 'Never',\n 'Patrick Reed': 'Never',\n 'Robert Streb': 'Never',\n 'Steve LeBrun': 'Never',\n 'Eric Meierdierks': 'Never',\n 'David Lynn': 'Never',\n 'Lee Williams': 'Never',\n 'Brad Fritsch': 'Never',\n 'Shawn Stefani': 'Never',\n 'Nicolas Colsaerts': 'Never',\n 'Scott Gardiner': 'Never',\n 'Ben Kohles': 2055,\n 'Derek Ernst': 2045,\n 'James Hahn': 2048,\n 'Peter Hanson': 'Never',\n 'Andrew Svoboda': 'Never',\n 'Henrik Norlander': 'Never',\n 'Luke Guthrie': 2038,\n 'Martin Kaymer': 2024,\n 'Alistair Presnell': 'Never',\n 'Scott Langley': 'Never',\n 'Luke List': 2030,\n 'Brooks Koepka': 2033,\n 'Hideki Matsuyama': 2046,\n 'Andrew Loupe': 2024,\n 'Will Wilcox': 'Never',\n \"Bronson La'Cassie\": 'Never',\n 'Jamie Lovemark': 2060,\n 'Hudson Swafford': 2043,\n 'Brice Garnett': 'Never',\n 'John Peterson': 'Never',\n 'Wes Roach': 'Never',\n 'Chesson Hadley': 2044,\n 'Gonzalo Fernandez-Castaño': 2036,\n 'Tyrone Van Aswegen': 'Never',\n 'Kevin Tway': 2029,\n 'Francesco Molinari': 2048,\n 'Tony Finau': 'Never',\n 'Patrick Rodgers': 2043,\n 'Justin Thomas': 2039,\n 'Whee Kim': 'Never',\n 'Tom Hoge': 2057,\n 'Blayne Barber': 2030,\n 'Daniel Berger': 'Never',\n 'Zac Blair': 2067,\n 'Jon Curran': 'Never',\n 'Scott Pinckney': 2024,\n 'Jamie Donaldson': 'Never',\n 'Adam Hadwin': 2048,\n 'Oscar Fraustro': 'Never',\n 'Jonathan Randolph': 2061,\n 'Mark Hubbard': 2047,\n 'Byron Smith': 'Never',\n 'Carlos Ortiz': 2043,\n 'Roger Sloan': 'Never',\n 'Nick Taylor': 'Never',\n 'Sam Saunders': 2026,\n 'Sung Joon Park': 'Never',\n 'Max Homa': 2033,\n 'Andrew Putnam': 'Never',\n 'Branden Grace': 'Never',\n 'Andrew Landry': 'Never',\n 'Kelly Kraft': 'Never',\n 'Si Woo Kim': 2040,\n 'Emiliano Grillo': 2034,\n 'Brett Stegmaier': 'Never',\n 'Thomas Aiken': 'Never',\n 'Abraham Ancer': 2030,\n 'Anirban Lahiri': 2047,\n 'Shane Lowry': 2039,\n 'Tyler Aldridge': 'Never',\n 'Rob Oppenheim': 2085,\n 'Rhein Gibson': 'Never',\n 'Smylie Kaufman': 2024,\n 'Michael Kim': 2031,\n 'Dawie van der Walt': 2037,\n 'Cameron Smith': 2031,\n 'Bronson Burgoon': 2060,\n 'Patton Kizzire': 2033,\n 'Peter Malnati': 2034,\n 'Harold Varner III': 'Never',\n 'Hiroshi Iwata': 'Never',\n 'Jon Rahm': 2026,\n 'Xander Schauffele': 'Never',\n 'Patrick Cantlay': 2030,\n 'Trey Mullinax': 2034,\n 'Seamus Power': 'Never',\n 'Brandon Hagy': 2025,\n 'Ryan Blaum': 2030,\n 'Sebastián Muñoz': 2035,\n 'Ollie Schniederjans': 2024,\n 'Julián Etulain': 'Never',\n 'Rafa Cabrera Bello': 'Never',\n 'Brett Drewitt': 2034,\n 'J.T. Poston': 'Never',\n 'Brian Campbell': 'Never',\n 'Richy Werenski': 2046,\n 'Byeong Hun An': 2027,\n 'Ryan Brehm': 'Never',\n 'Rick Lamb': 'Never',\n 'Søren Kjeldsen': 'Never',\n 'J.J. Spaun': 'Never',\n 'Bryson DeChambeau': 2024,\n 'Grayson Murray': 2095,\n 'Dominic Bozzelli': 2034,\n 'C.T. Pan': 2035,\n 'Wesley Bryan': 2028,\n 'Nicholas Lindheim': 2024,\n 'Cody Gribble': 2090,\n 'Mackenzie Hughes': 2052,\n 'Joel Dahmen': 'Never',\n 'Tommy Fleetwood': 'Never',\n 'Aaron Wise': 2075,\n 'Tyrrell Hatton': 2031,\n 'Austin Cook': 'Never',\n 'Alex Noren': 'Never',\n 'Beau Hossler': 2029,\n 'Sam Ryder': 'Never',\n 'Peter Uihlein': 'Never',\n 'Denny McCarthy': 'Never',\n 'Keith Mitchell': 2033,\n 'Corey Conners': 'Never',\n 'Kiradech Aphibarnrat': 'Never',\n 'Nate Lashley': 2059,\n 'Matt Atkins': 'Never',\n 'Lanto Griffin': 'Never',\n 'Conrad Shindler': 'Never',\n 'Stephan Jaeger': 2045,\n 'Brandon Harkins': 2030,\n 'Ethan Tracy': 'Never',\n 'Roberto Díaz': 2046,\n 'Ben Silverman': 'Never',\n 'Talor Gooch': 2034,\n 'Tom Lovelady': 'Never',\n 'Tyler Duncan': 2048,\n 'Adam Schenk': 'Never',\n 'Satoshi Kodaira': 'Never',\n 'Zecheng Dou': 2030,\n 'Xinjun Zhang': 'Never',\n 'Andrew Yun': 'Never',\n 'Joaquin Niemann': 2025,\n 'Sungjae Im': 2049,\n 'Dylan Frittelli': 2028,\n 'Wyndham Clark': 2024,\n 'Sepp Straka': 'Never',\n 'Joey Garber': 'Never',\n 'Adam Svensson': 2084,\n 'José de Jesús Rodríguez': 'Never',\n ...}"
          },
          "metadata": {}
        }
      ],
      "execution_count": null,
      "metadata": {
        "jupyter": {
          "source_hidden": false,
          "outputs_hidden": false
        },
        "noteable": {
          "cell_type": "code"
        },
        "ExecuteTime": {
          "start_time": "2023-05-31T21:11:28.050795+00:00",
          "end_time": "2023-05-31T21:11:30.432851+00:00"
        }
      },
      "id": "67d574e0-6669-4af3-9bf7-307852c35ef2"
    },
    {
      "cell_type": "code",
      "source": [
        "from sklearn.model_selection import train_test_split\n",
        "from sklearn.ensemble import RandomForestRegressor\n",
        "from sklearn.metrics import mean_absolute_error\n",
        "\n",
        "predicted_years = {}\n",
        "\n",
        "for player in df['player'].unique():\n",
        "    player_data = df[df['player'] == player]\n",
        "    player_data = player_data[['year', 'drive_avg']]\n",
        "    player_data.dropna(inplace=True)\n",
        "\n",
        "    if len(player_data) < 2 or player_data['drive_avg'].max() < 317:\n",
        "        predicted_years[player] = 'Never'\n",
        "        continue\n",
        "\n",
        "    X = player_data['year'].values.reshape(-1, 1)\n",
        "    y = player_data['drive_avg'].values\n",
        "\n",
        "    X_train, X_test, y_train, y_test = train_test_split(X, y, test_size=0.2, random_state=42)\n",
        "\n",
        "    model = RandomForestRegressor(n_estimators=100, random_state=42)\n",
        "    model.fit(X_train, y_train)\n",
        "\n",
        "    y_pred = model.predict(X_test)\n",
        "    mae = mean_absolute_error(y_test, y_pred)\n",
        "\n",
        "    if mae > 10:\n",
        "        predicted_years[player] = 'Unpredictable'\n",
        "        continue\n",
        "\n",
        "    year = player_data['year'].max()\n",
        "    drive_avg = player_data['drive_avg'].max()\n",
        "\n",
        "    while drive_avg < 317:\n",
        "        year += 1\n",
        "        drive_avg = model.predict([[year]])[0]\n",
        "\n",
        "    predicted_years[player] = year\n",
        "\n",
        "predicted_years"
      ],
      "outputs": [
        {
          "output_type": "execute_result",
          "execution_count": null,
          "data": {
            "text/plain": "{'Payne Stewart': 'Never',\n 'Dan Pohl': 'Never',\n 'Lanny Wadkins': 'Never',\n 'Paul Azinger': 'Never',\n 'David Frost': 'Never',\n 'Bernhard Langer': 'Never',\n 'Curtis Strange': 'Never',\n 'Hal Sutton': 'Never',\n 'Scott Hoch': 'Never',\n \"Mark O'Meara\": 'Never',\n 'Steve Pate': 'Never',\n 'Craig Stadler': 'Never',\n 'Tom Kite': 'Never',\n 'Fred Couples': 'Never',\n 'Tom Watson': 'Never',\n 'Ben Crenshaw': 'Never',\n 'Gil Morgan': 'Never',\n 'Greg Norman': 'Never',\n 'Bobby Wadkins': 'Never',\n 'Hale Irwin': 'Never',\n 'Corey Pavin': 'Never',\n 'Mike Reid': 'Never',\n 'Richard Zokol': 'Never',\n 'Larry Mize': 'Never',\n 'Dave Barr': 'Never',\n 'Don Pooley': 'Never',\n 'Fuzzy Zoeller': 'Never',\n 'Larry Nelson': 'Never',\n 'John Mahaffey': 'Never',\n 'Scott Simpson': 'Never',\n 'Jack Renner': 'Never',\n 'Jay Haas': 'Never',\n 'Nick Price': 'Never',\n 'T.C. Chen': 'Never',\n 'Mark McCumber': 'Never',\n 'Frank Conner': 'Never',\n 'John Cook': 'Never',\n 'Ed Dougherty': 'Never',\n 'Raymond Floyd': 'Never',\n 'Billy Pierot': 'Never',\n 'Chip Beck': 'Never',\n 'Ed Fiori': 'Never',\n 'Dick Mast': 'Never',\n 'Ken Brown': 'Never',\n 'Danny Edwards': 'Never',\n 'Calvin Peete': 'Never',\n 'Mark Calcavecchia': 'Never',\n 'Bruce Lietzke': 'Never',\n 'D.A. Weibring': 'Never',\n 'Wayne Levi': 'Never',\n 'David Edwards': 'Never',\n 'Bob Tway': 'Never',\n 'J.C. Snead': 'Never',\n 'Curt Byrum': 'Never',\n 'Mike Nicolette': 'Never',\n 'Jay Don Blake': 'Never',\n 'Jim Carter': 'Never',\n 'Dave Rummells': 'Never',\n 'Doug Tewell': 'Never',\n 'Bobby Clampett': 'Never',\n 'Tim Simpson': 'Never',\n 'Dewey Arnette': 'Never',\n 'Tom Purtzer': 'Never',\n 'Chris Perry': 'Never',\n 'Jodie Mudd': 'Never',\n 'Jeff Sluman': 'Never',\n 'Ron Streck': 'Never',\n 'Ronnie Black': 'Never',\n 'Sandy Lyle': 'Never',\n 'Ken Green': 'Never',\n 'Roger Maltbie': 'Never',\n 'Denis Watson': 'Never',\n 'George Burns': 'Never',\n 'Davis Love III': 'Never',\n 'Buddy Gardner': 'Never',\n 'Robert Thompson': 'Never',\n 'Rick Fehr': 'Never',\n 'Russ Cochran': 'Never',\n 'Peter Jacobsen': 'Never',\n 'Howard Twitty': 'Never',\n 'Willie Wood': 'Never',\n 'Andy Bean': 'Never',\n 'Tony Sills': 'Never',\n 'Brad Faxon': 'Never',\n 'Bill Glasson': 'Never',\n 'Andrew Magee': 'Never',\n \"Mac O'Grady\": 'Never',\n 'David Graham': 'Never',\n 'Mike McCullough': 'Never',\n 'Donnie Hammond': 'Never',\n 'Gene Sauers': 'Never',\n 'Ted Schulz': 'Never',\n 'Joey Sindelar': 'Never',\n 'Jim Simons': 'Never',\n 'Keith Clearwater': 'Never',\n 'Andy North': 'Never',\n 'Dave Stockton': 'Never',\n 'Tony Grimes': 'Never',\n 'Gary Koch': 'Never',\n 'Bob Eastwood': 'Never',\n 'Lon Hinkle': 'Never',\n 'Kenny Perry': 'Never',\n 'Bill Rogers': 'Never',\n 'Dave Eichelberger': 'Never',\n 'Larry Rinker': 'Never',\n 'Clarence Rose': 'Never',\n 'Sam Randolph': 'Never',\n 'Bobby Cole': 'Never',\n 'Morris Hatalsky': 'Never',\n 'Robert Wrenn': 'Never',\n 'Tom Byrum': 'Never',\n 'Gary Hallberg': 'Never',\n 'Don Shirey, Jr.': 'Never',\n 'Lennie Clements': 'Never',\n 'Mike Smith': 'Never',\n 'Scott Verplank': 'Never',\n 'Bill Britton': 'Never',\n 'Dan Halldorson': 'Never',\n 'Vance Heafner': 'Never',\n 'Bob Murphy': 'Never',\n 'Aki Ohmachi': 'Never',\n 'Loren Roberts': 'Never',\n 'Mark Lye': 'Never',\n 'Rex Caldwell': 'Never',\n 'Harry Taylor': 'Never',\n 'Steve Jones': 'Never',\n 'Rocco Mediate': 'Never',\n 'Antonio Cerda': 'Never',\n 'Brad Fabel': 'Never',\n 'John Inman': 'Never',\n 'Mark Pfeil': 'Never',\n 'Andy Dillard': 'Never',\n 'Mike Hulbert': 'Never',\n 'Kenny Knox': 'Never',\n 'Blaine McCallister': 'Never',\n 'Mike Sullivan': 'Never',\n 'Ray Barr, Jr.': 'Never',\n 'Gary Krueger': 'Never',\n 'Mike Donald': 'Never',\n 'Bruce Soulsby': 'Never',\n 'David Canipe': 'Never',\n 'Leonard Thompson': 'Never',\n 'Jim Thorpe': 'Never',\n 'Charles Bolling': 'Never',\n 'Trevor Dodds': 'Never',\n 'Bob Gilder': 'Never',\n 'Denny Hepler': 'Never',\n 'Tim Norris': 'Never',\n 'Mark Wiebe': 'Never',\n 'Bob Lohr': 'Never',\n 'Bill Sander': 'Never',\n 'Mark Brooks': 'Never',\n 'John Riegger': 'Never',\n 'Mark Hayes': 'Never',\n 'David Ogrin': 'Never',\n 'Perry Arthur': 'Never',\n 'Barry Jaeckel': 'Never',\n 'Billy Kratzert': 'Never',\n 'John Adams': 'Never',\n 'Brian Claar': 'Never',\n 'David Hobby': 'Never',\n 'Hubert Green': 'Never',\n 'Dan Forsman': 'Never',\n 'Duffy Waldorf': 'Never',\n 'Phil Blackmar': 'Never',\n 'John McComish': 'Never',\n 'Ray Stewart': 'Never',\n 'Jay Delsing': 'Never',\n 'Steve Elkington': 'Never',\n 'Brad Greer': 'Never',\n 'Philip Jonas': 'Never',\n 'Jeff Lewis': 'Never',\n 'Brett Upper': 'Never',\n 'John Horne': 'Never',\n 'Pat McGowan': 'Never',\n 'Doug Johnson': 'Never',\n 'David Peoples': 'Never',\n 'Mike Bender': 'Never',\n 'Jim Wilson': 'Never',\n 'Tom Sieckmann': 'Never',\n 'Tom Garner': 'Never',\n 'Fred Wadsworth': 'Never',\n 'Rick Dalpos': 'Never',\n 'Jim Nelford': 'Never',\n 'Jim Gallagher, Jr.': 'Never',\n 'Ernie Gonzalez': 'Never',\n 'Ted Lehmann': 'Never',\n 'Woody Blackburn': 'Never',\n 'Tommy Nakajima': 'Never',\n 'Wayne Grady': 'Never',\n 'Lance Ten Broeck': 'Never',\n 'George Archer': 'Never',\n 'Tommy Armour III': 'Never',\n 'Kim Young': 'Never',\n 'Brian Tennyson': 'Never',\n 'Fulton Allem': 'Never',\n 'Brad Bryant': 'Never',\n 'Clark Burroughs': 'Never',\n 'Rick Pearson': 'Never',\n 'Jim Hallet': 'Never',\n 'Dillard Pruitt': 'Never',\n 'Billy Ray Brown': 'Never',\n 'Joey Rassett': 'Never',\n 'Jim Booros': 'Never',\n 'Billy Andrade': 'Never',\n 'Greg Powers': 'Never',\n 'Roy Biancalana': 'Never',\n 'John Huston': 'Never',\n 'Bill Buttner': 'Never',\n 'Bob Proben': 'Never',\n 'Steve Thomas': 'Never',\n 'Bruce Zabriski': 'Never',\n 'Mike Hammond': 'Never',\n 'Steve Lowery': 'Never',\n 'Brandel Chamblee': 'Never',\n 'Greg Ladehoff': 'Never',\n 'Richard Cromwell': 'Never',\n 'Brian Mogg': 'Never',\n 'Danny Briggs': 'Never',\n 'Mike Blackburn': 'Never',\n 'Tom Pernice Jr.': 'Never',\n 'Barry Cheesman': 'Never',\n 'Mark Maness': 'Never',\n 'Jeff Coston': 'Never',\n 'Paul Trittler': 'Never',\n 'Ian Baker-Finch': 'Never',\n 'Ronnie McCann': 'Never',\n 'Bob Wolcott': 'Never',\n 'Jeff Hart': 'Never',\n 'Larry Silveira': 'Never',\n 'Isao Aoki': 'Never',\n 'Nick Faldo': 'Never',\n 'Karl Kimball': 'Never',\n 'Steve Hart': 'Never',\n 'Nolan Henke': 'Never',\n 'Mike Miles': 'Never',\n 'Bob Estes': 'Never',\n 'J.L. Lewis': 'Never',\n 'Webb Heintzelman': 'Never',\n 'Jack Kay Jr.': 'Never',\n 'Jerry Pate': 'Never',\n 'David Jackson': 'Never',\n 'Fred Funk': 'Never',\n 'Robin Freeman': 'Never',\n 'P.H. Horgan III': 'Never',\n 'Joel Edwards': 'Never',\n 'Billy Mayfair': 'Never',\n 'Ed Humenik': 'Never',\n 'Charlie Bowles': 'Never',\n 'Billy Tuten': 'Never',\n 'Doug Weaver': 'Never',\n 'Don Reese': 'Never',\n 'Jim Benepe': 'Never',\n 'Greg Twiggs': 'Never',\n 'Neal Lancaster': 'Never',\n 'Mitch Adcock': 'Never',\n 'Kirk Triplett': 'Never',\n 'Jack Ferenz': 'Never',\n 'Tommy Moore': 'Never',\n 'Robert Gamez': 'Never',\n 'Lee Janzen': 'Never',\n 'Steve Lamontagne': 'Never',\n 'Tom Eubank': 'Never',\n 'Patrick Burke': 'Never',\n 'Clark Dennis': 'Never',\n 'John Dowdall': 'Never',\n 'Mike Schuchart': 'Never',\n 'Greg Hickman': 'Never',\n 'Jim Woodward': 'Never',\n 'Jerry Anderson': 'Never',\n 'Jerry Haas': 'Never',\n 'Brian Kamm': 'Never',\n 'Jeffrey Wilson': 'Never',\n 'Emlyn Aubrey': 'Never',\n 'Peter Persons': 'Never',\n 'Sean Murphy': 'Never',\n 'Michael Allen': 'Never',\n 'Carl Cooper': 'Never',\n 'Greg Bruckner': 'Never',\n 'Grant Waite': 'Never',\n 'Dennis Harrington': 'Never',\n 'Stan Utley': 'Never',\n 'Sonny Skinner': 'Never',\n 'Rick Todd': 'Never',\n 'JC Anderson': 'Never',\n 'Scott Gump': 'Never',\n 'Mike Springer': 'Never',\n 'Bart Bryant': 'Never',\n 'Brad Bell': 'Never',\n 'Jeff Maggert': 'Never',\n 'Bryan Norton': 'Never',\n 'Marco Dawson': 'Never',\n 'John Wilson': 'Never',\n 'Greg Whisman': 'Never',\n 'Dudley Hart': 'Never',\n 'Jim McGovern': 'Never',\n 'Brandt Jobe': 'Never',\n 'John Daly': 'Never',\n 'Brian Watts': 'Never',\n 'Ken Schall': 'Never',\n 'Mike Standly': 'Never',\n 'Craig Rudolph': 'Never',\n 'Brad Lardon': 'Never',\n 'David Sutherland': 'Never',\n 'Dicky Thompson': 'Never',\n 'Tom Lehman': 'Never',\n 'Bruce Fleisher': 'Never',\n 'David Toms': 'Never',\n 'Tray Tyner': 'Never',\n 'Dave Peege': 'Never',\n 'Kelly Gibson': 'Never',\n 'Greg Lesher': 'Never',\n 'John Ross': 'Never',\n 'John Elliott': 'Never',\n 'Greg Kraft': 'Never',\n 'Mark Carnevale': 'Never',\n 'Fran Quinn': 'Never',\n 'Bob Friend': 'Never',\n 'E.J. Pfister': 'Never',\n 'Olin Browne': 'Never',\n 'Michael Cunning': 'Never',\n 'J.P. Hayes': 'Never',\n 'Doug Martin': 'Never',\n 'Jon Chaffee': 'Never',\n 'Chris Tucker': 'Never',\n 'Dave Schreyer': 'Never',\n 'Craig Parry': 'Never',\n 'Jeff Cook': 'Never',\n 'Bill Murchison': 'Never',\n 'Phil Mickelson': 'Never',\n 'Gene Jones': 'Never',\n 'Jaime Gomez': 'Never',\n 'Brett Ogle': 'Never',\n 'Brian Henninger': 'Never',\n 'Russell Beiersdorf': 'Never',\n 'Tim Conley': 'Never',\n 'Skip Kendall': 'Never',\n 'Paul Goydos': 'Never',\n 'Lee Porter': 'Never',\n 'Jeff Woodland': 'Never',\n 'Ted Tryba': 'Never',\n 'Len Mattiace': 'Never',\n 'Neale Smith': 'Never',\n 'Greg Cesario': 'Never',\n 'Massy Kuramoto': 'Never',\n 'Marty Schiene': 'Never',\n 'Dennis Trixler': 'Never',\n 'Perry Moss': 'Never',\n 'John Flannery': 'Never',\n 'Tad Rhyan': 'Never',\n 'Eddie Pearce': 'Never',\n 'David Delong': 'Never',\n 'Jimmy Johnston': 'Never',\n 'Michael Bradley': 'Never',\n 'Bob Burns': 'Never',\n 'Steve Stricker': 'Never',\n 'David Feherty': 'Never',\n 'Vijay Singh': 'Never',\n 'Yoshinori Mizumaki': 'Never',\n 'Rob Boldt': 'Never',\n 'Guy Boros': 'Never',\n 'Joe Ozaki': 'Never',\n 'Jesper Parnevik': 'Never',\n 'Steve Rintoul': 'Never',\n 'John Morse': 'Never',\n 'Glen Day': 'Never',\n 'Jim Furyk': 'Never',\n 'Steve Gotsche': 'Never',\n 'Esteban Toledo': 'Never',\n 'Pete Jordan': 'Never',\n 'Phil Tataurangi': 'Never',\n 'Dennis Paulson': 'Never',\n 'Eddie Kirby': 'Never',\n 'Paul Stankowski': 'Never',\n 'Steve Brodie': 'Never',\n 'Mike Heinen': 'Never',\n 'Chris DiMarco': 'Never',\n 'Dave Stockton, Jr.': 'Never',\n 'Todd Barranger': 'Never',\n 'Mark Wurtz': 'Never',\n 'Rocky Walcher': 'Never',\n 'Charles Raulerson': 'Never',\n 'Dicky Pride': 'Never',\n 'Bob May': 'Never',\n 'Ty Armstrong': 'Never',\n 'Justin Leonard': 'Never',\n 'Scott McCarron': 'Never',\n 'Ernie Els': 'Never',\n 'David Duval': 'Never',\n 'Jonathan Kaye': 'Never',\n 'Lee Rinker': 'Never',\n 'Joe Acosta, Jr.': 'Never',\n 'Tommy Tolles': 'Never',\n 'Keith Fergus': 'Never',\n 'Tom Hearn': 'Never',\n 'Woody Austin': 'Never',\n 'Tim Loustalot': 'Never',\n 'Omar Uresti': 'Never',\n 'Carl Paulson': 'Never',\n 'Charlie Rymer': 'Never',\n 'Bruce Vaughan': 'Never',\n 'Jay Williamson': 'Never',\n 'Pat Bates': 'Never',\n 'Kawika Cotner': 'Never',\n 'Bill Porter': 'Never',\n 'Mike Brisky': 'Never',\n 'Jeff Leonard': 'Never',\n 'John Maginnes': 'Never',\n 'Stuart Appleby': 'Never',\n 'Scott Dunlap': 'Never',\n 'Hisayuki Sasaki': 'Never',\n 'Allen Doyle': 'Never',\n 'Jerry Kelly': 'Never',\n 'Ron Whittaker': 'Never',\n 'Taylor Smith': 'Never',\n 'Frank Lickliter II': 'Never',\n 'Gary Rusnak': 'Never',\n 'Tim Herron': 'Never',\n 'Steve Jurgensen': 'Never',\n 'Hugh Royer III': 'Never',\n 'Scott Medlin': 'Never',\n 'Joe Daley': 'Never',\n 'Jeff Julian': 'Never',\n 'Kevin Sutherland': 'Never',\n 'Jeff Gallagher': 'Never',\n 'Bryan Gorman': 'Never',\n 'Franklin Langham': 'Never',\n 'Lucas Parsons': 'Never',\n 'Shane Bertsch': 'Never',\n 'Joey Gullion': 'Never',\n 'Mike Swartz': 'Never',\n 'Tom Scherrer': 'Never',\n 'Chris Smith': 'Never',\n 'Brent Geiberger': 'Never',\n 'Tiger Woods': 'Never',\n 'David Berganio, Jr.': 'Never',\n 'Michael Christie': 'Never',\n 'Robert Damron': 'Never',\n 'Stewart Cink': 'Never',\n 'Doug Barron': 'Never',\n 'Gabriel Hjertstedt': 'Never',\n 'Craig Kanada': 'Never',\n 'Paul Claxton': 'Never',\n 'Frank Nobilo': 'Never',\n 'Spike McRoy': 'Never',\n 'Joe Durant': 'Never',\n 'Rafael Alarcon': 'Never',\n 'Craig Bowden': 'Never',\n 'Kevin Burton': 'Never',\n 'Shaun Micheel': 'Never',\n 'Bradley Hughes': 'Never',\n 'Jimmy Green': 'Never',\n \"Jack O'Keefe\": 'Never',\n 'Brett Quigley': 'Never',\n 'Todd Demsey': 'Never',\n 'Eric Johnson': 'Never',\n 'Anthony Rodriguez': 'Never',\n 'Chip Sullivan': 'Never',\n 'Hideki Kase': 'Never',\n 'Stephen Ames': 'Never',\n 'Steve Flesch': 'Never',\n 'Ben Bates': 'Never',\n 'Mike Weir': 'Never',\n 'Craig Barlow': 'Never',\n 'Bobby Gage': 'Never',\n 'Richie Coughlan': 'Never',\n 'Kevin Wentworth': 'Never',\n 'Harrison Frazar': 'Never',\n 'Glen Hnatiuk': 'Never',\n 'Mike Small': 'Never',\n 'Jim Estes': 'Never',\n 'Keith Nolan': 'Never',\n 'R.W. Eaks': 'Never',\n 'Kent Jones': 'Never',\n 'Iain Steel': 'Never',\n 'Guy Hill': 'Never',\n 'Vance Veazey': 'Never',\n 'Robert Allenby': 'Never',\n 'Chris Riley': 'Never',\n 'Greg Chalmers': 'Never',\n 'Katsumasa Miyamoto': 'Never',\n 'Notah Begay III': 'Never',\n 'Brian Gay': 'Never',\n 'Carlos Franco': 'Never',\n 'Eric Booker': 'Never',\n 'Rich Beem': 'Never',\n 'Joe Ogilvie': 'Never',\n 'Mike Sposa': 'Never',\n 'Jeff Brehaut': 'Never',\n 'Rory Sabbatini': 'Never',\n 'Deane Pappas': 'Never',\n 'Doug Dunakey': 'Never',\n 'Briny Baird': 'Never',\n 'Cameron Beckman': 'Never',\n 'Alan Bratton': 'Never',\n 'Charles Warren': 'Never',\n 'Ted Purdy': 'Never',\n 'Chris Couch': 'Never',\n 'David Seawell': 'Never',\n 'Geoffrey Sisk': 'Never',\n 'Bo Van Pelt': 'Never',\n 'Jean Van de Velde': 'Never',\n 'Edward Fryatt': 'Never',\n 'K.J. Choi': 'Never',\n 'Shigeki Maruyama': 'Never',\n 'Sergio Garcia': 'Never',\n 'Michael Clark II': 'Never',\n 'Craig Perks': 'Never',\n 'Jerry Smith': 'Never',\n 'Brad Elder': 'Never',\n 'Casey Martin': 'Never',\n 'Jason Buha': 'Never',\n 'Matt Gogel': 'Never',\n 'Mathew Goggin': 'Never',\n 'Bob Heintz': 'Never',\n 'Paul Curry': 'Never',\n 'Jeff Gove': 'Never',\n 'Bobby Cochran': 'Never',\n 'John Rollins': 'Never',\n 'Gary Nicklaus': 'Never',\n 'Ryan Howison': 'Never',\n 'David Morland IV': 'Never',\n 'Craig Spence': 'Never',\n 'Jason Caron': 'Never',\n 'Aaron Bengoechea': 'Never',\n 'Charles Howell III': 'Never',\n 'Per-Ulrik Johansson': 'Never',\n 'José Coceres': 'Never',\n 'José María Olazábal': 'Never',\n 'J.J. Henry': 'Never',\n 'Andrew McLardy': 'Never',\n 'Kaname Yokoo': 'Never',\n 'Paul Gow': 'Never',\n 'Jeremy Anderson': 'Never',\n 'Ian Leggatt': 'Never',\n 'Brent Schwarzrock': 'Never',\n 'Michael Muehr': 'Never',\n 'Tripp Isenhour': 'Never',\n 'Chris Tidland': 'Never',\n 'Kevin Johnson': 'Never',\n 'Danny Ellis': 'Never',\n 'Brian Wilson': 'Never',\n 'Geoff Ogilvy': 'Never',\n 'Cliff Kresge': 'Never',\n 'Jason Gore': 'Never',\n 'Kelly Grunewald': 'Never',\n 'Garrett Willis': 'Never',\n 'Mark Hensby': 'Never',\n 'Ben Ferguson': 'Never',\n 'Steve Allan': 'Never',\n 'Hunter Haas': 'Never',\n 'Luke Donald': 'Never',\n 'Peter Lonard': 'Never',\n 'Retief Goosen': 'Never',\n 'Rod Pampling': 'Never',\n 'Chad Campbell': 'Never',\n 'Ben Crane': 'Never',\n 'Tim Petrovic': 'Never',\n 'David Gossett': 'Never',\n 'John Senden': 'Never',\n 'Jonathan Byrd': 'Never',\n 'Tim Clark': 'Never',\n 'Matt Peterson': 'Never',\n 'Hidemichi Tanaka': 'Never',\n 'Matt Kuchar': 'Never',\n 'Pat Perez': 'Never',\n 'Stephen Gangluff': 'Never',\n 'Bryce Molder': 'Never',\n 'Eduardo Herrera': 'Never',\n 'Miguel Angel Jiménez': 'Never',\n 'Heath Slocum': 'Never',\n 'Boo Weekley': 'Never',\n 'Michael Long': 'Never',\n 'Jess Daley': 'Never',\n 'Brian Bateman': 'Never',\n 'Kenneth Staton': 'Never',\n 'Jason Hill': 'Never',\n 'Brenden Pappas': 'Never',\n 'Brett Wetterich': 'Never',\n 'Arron Oberholser': 'Never',\n 'Tom Gillis': 'Never',\n 'Richard Johnson': 'Never',\n 'Patrick Sheehan': 'Never',\n 'Alex Cejka': 'Never',\n 'Darren Clarke': 'Never',\n 'Scott Laycock': 'Never',\n 'Hank Kuehne': 2005,\n 'Aaron Barber': 'Never',\n 'Adam Scott': 'Never',\n 'Aaron Baddeley': 'Never',\n 'Carl Pettersson': 'Never',\n 'Chris Anderson': 'Never',\n 'Ben Curtis': 'Never',\n 'Mike Grob': 'Never',\n 'Dean Wilson': 'Never',\n 'Todd Fischer': 'Never',\n 'Mark Wilson': 'Never',\n 'Akio Sadakata': 'Never',\n 'John Morgan': 'Never',\n 'Thomas Levet': 'Never',\n 'Cameron Yancey': 'Never',\n 'Darron Stiles': 'Never',\n 'Ty Tryon': 'Never',\n 'Andy Miller': 'Never',\n 'Gavin Coles': 'Never',\n 'Steven Alker': 'Never',\n 'Jeff Klein': 'Never',\n 'Kenichi Kuboya': 'Never',\n 'Anthony Painter': 'Never',\n 'Justin Rose': 'Never',\n 'Zach Johnson': 'Never',\n 'Roland Thatcher': 'Never',\n 'Freddie Jacobson': 'Never',\n 'Kevin Na': 'Never',\n 'Vaughn Taylor': 'Never',\n 'Hunter Mahan': 'Never',\n 'Brian Kortan': 'Never',\n 'Tag Ridings': 'Never',\n 'Jason Bohn': 'Never',\n 'Niclas Fasth': 'Never',\n 'Jason Dufner': 'Never',\n 'Ryan Palmer': 'Never',\n 'D.J. Brigman': 'Never',\n 'Lucas Glover': 'Never',\n 'Rich Barcelo': 'Never',\n 'Kris Cox': 'Never',\n 'Stephen Leaney': 'Never',\n 'Andre Stolz': 'Never',\n 'Daniel Chopra': 'Never',\n 'Mathias Grönberg': 'Never',\n 'Arjun Atwal': 'Never',\n 'Todd Hamilton': 'Never',\n 'Kevin Muncrief': 'Never',\n 'David Branshaw': 'Never',\n 'Dan Olsen': 'Never',\n 'Ken Duke': 'Never',\n 'Roger Tambellini': 'Never',\n 'Tom Carter': 'Never',\n 'Scott Hend': 2005,\n 'Hirofumi Miyase': 'Never',\n 'Scott Gutschewski': 'Never',\n 'Ryuji Imada': 'Never',\n 'Brian Davis': 'Never',\n 'David Hearn': 'Never',\n \"Sean O'Hair\": 'Never',\n 'Tjaart van der Walt': 'Never',\n 'Joey Snyder III': 'Never',\n 'Mario Tiziani': 'Never',\n 'Phillip Price': 'Never',\n 'Greg Owen': 'Never',\n 'Justin Bolli': 'Never',\n 'Nick Watney': 'Never',\n 'D.J. Trahan': 'Never',\n 'Padraig Harrington': 'Never',\n 'Lee Westwood': 'Never',\n 'Charlie Wi': 'Never',\n 'Brendan Jones': 'Never',\n 'Will MacKenzie': 'Never',\n 'Matt Davidson': 'Never',\n 'D.A. Points': 'Never',\n 'Ian Poulter': 'Never',\n 'Hideto Tanihara': 'Never',\n 'Kevin Stadler': 'Never',\n 'Rob Rashell': 'Never',\n 'James Driscoll': 'Never',\n 'Jason Allred': 'Never',\n 'Trevor Immelman': 'Never',\n 'Bubba Watson': 2021,\n 'Camilo Villegas': 'Never',\n 'Charley Hoffman': 'Never',\n 'David McKenzie': 'Never',\n 'Jeff Overton': 'Never',\n 'Matt Hansen': 'Never',\n 'Eric Axley': 'Never',\n 'Daisuke Maruyama': 'Never',\n 'David Howell': 'Never',\n 'Nathan Green': 'Never',\n 'Ryan Moore': 'Never',\n 'Bill Haas': 'Never',\n 'Troy Matteson': 'Never',\n 'Henrik Bjornstad': 'Never',\n 'Ryan Hietala': 'Never',\n 'Michael Connell': 'Never',\n 'Robert Garrigus': 'Never',\n 'Bubba Dickerson': 'Never',\n 'Jason Schultz': 'Never',\n 'Jimmy Walker': 'Never',\n 'J.B. Holmes': 2021,\n 'Alex Aragon': 'Never',\n 'Jon Mills': 'Never',\n 'Nicholas Thompson': 'Never',\n 'John Engler, Jr.': 'Never',\n 'Wes Short, Jr.': 'Never',\n 'Michael Sim': 'Never',\n 'Jarrod Lyle': 'Never',\n 'Brandt Snedeker': 'Never',\n 'Anthony Kim': 'Never',\n 'Chris Stroud': 'Never',\n 'Craig Lile': 'Never',\n 'Michael Boyd': 'Never',\n 'John Merrick': 'Never',\n 'Jaco Van Zyl': 'Never',\n 'Brendon de Jonge': 'Never',\n 'Ryan Armour': 'Never',\n 'Jeff Quinney': 'Never',\n 'Doug LaBelle II': 'Never',\n 'Henrik Stenson': 'Never',\n 'Parker McLachlin': 'Never',\n 'Steve Wheatcroft': 'Never',\n 'Anders Hansen': 'Never',\n 'George McNeill': 'Never',\n 'Andrew Buckle': 'Never',\n 'Steve Marino': 'Never',\n \"Nick O'Hern\": 'Never',\n 'John Mallinger': 'Never',\n 'Johnson Wagner': 'Never',\n 'Matt Hendrix': 'Never',\n 'Tom Johnson': 'Never',\n 'Jim Rutledge': 'Never',\n 'Kyle Reifers': 'Never',\n 'Michael Putnam': 'Never',\n 'Michael Letzig': 'Never',\n 'Kevin Streelman': 'Never',\n 'Alejandro Cañizares': 'Never',\n 'Tim Wilkinson': 'Never',\n 'Scott Sterling': 'Never',\n 'Kenneth Ferrie': 'Never',\n 'Brad Adamonis': 'Never',\n 'Chez Reavie': 'Never',\n 'Jason Day': 'Never',\n 'Paul Casey': 'Never',\n 'Chad Collins': 'Never',\n 'Matt Jones': 'Never',\n 'Dustin Johnson': 2021,\n 'Marc Turnesa': 'Never',\n 'Tommy Gainey': 'Never',\n 'David Lutterus': 'Never',\n 'Bob Sowards': 'Never',\n 'Ángel Cabrera': 'Never',\n 'Martin Laird': 'Never',\n 'Nick Flanagan': 'Never',\n 'Travis Perkins': 'Never',\n 'Y.E. Yang': 'Never',\n 'Cody Freeman': 'Never',\n 'Jin Park': 'Never',\n 'Kyle Thompson': 'Never',\n 'Andres Romero': 'Never',\n 'Brett Rumford': 'Never',\n 'Marc Leishman': 'Never',\n 'Jeff Klauk': 'Never',\n 'Webb Simpson': 'Never',\n 'Matt Weibring': 'Never',\n 'Spencer Levin': 'Never',\n 'Bill Lunde': 'Never',\n 'Kris Blanks': 'Never',\n 'James Nitties': 'Never',\n 'Colt Knost': 'Never',\n 'Scott Piercy': 'Never',\n 'Ricky Barnes': 'Never',\n 'David Mathis': 'Never',\n 'Casey Wittenberg': 'Never',\n 'Brian Vranesh': 'Never',\n 'Aron Price': 'Never',\n 'Rick Price': 'Never',\n 'Peter Tomasulo': 'Never',\n 'Derek Fathauer': 'Never',\n 'Leif Olson': 'Never',\n 'Brendon Todd': 'Never',\n 'Gary Woodland': 'Never',\n 'Matt Bettencourt': 'Never',\n 'Graham DeLaet': 'Never',\n 'Rory McIlroy': 2023,\n 'Jeev Milkha Singh': 'Never',\n 'Matt Every': 'Never',\n 'Rickie Fowler': 'Never',\n 'Blake Adams': 'Never',\n 'Alex Prugh': 'Never',\n 'Cameron Percy': 'Never',\n 'Brent Delahoussaye': 'Never',\n 'Cameron Tringale': 'Never',\n 'Brian Stuard': 'Never',\n 'Josh Teater': 'Never',\n 'Garth Mulroy': 'Never',\n 'Chris Wilson': 'Never',\n 'Troy Merritt': 'Never',\n 'Martin Flores': 'Never',\n 'Jerod Turner': 'Never',\n 'Derek Lamely': 'Never',\n 'Charl Schwartzel': 'Never',\n 'Chris Kirk': 'Never',\n 'William McGirt': 'Never',\n 'Robert Karlsson': 'Never',\n 'Graeme McDowell': 'Never',\n 'Sung Kang': 'Never',\n 'Kyle Stanley': 'Never',\n 'Michael Thompson': 'Never',\n 'Matt McQuillan': 'Never',\n 'Jim Renner': 'Never',\n 'Keegan Bradley': 'Never',\n 'Jhonattan Vegas': 'Never',\n 'Kevin Chappell': 'Never',\n 'Joseph Bramlett': 'Unpredictable',\n 'Jim Herman': 'Never',\n 'Andres Gonzales': 'Never',\n 'Billy Horschel': 'Never',\n 'Kevin Kisner': 'Never',\n 'Ben Martin': 'Never',\n 'Will Strickler': 'Never',\n 'Nate Smith': 'Never',\n 'Scott Stallings': 'Never',\n 'Bobby Gates': 'Never',\n 'Alexandre Rocha': 'Never',\n 'Justin Hicks': 'Never',\n 'Steven Bowditch': 'Never',\n 'Daniel Summerhays': 'Never',\n 'Brendan Steele': 'Never',\n 'Fabián Gómez': 'Never',\n 'Bio Kim': 'Never',\n 'Martin Piller': 'Never',\n 'Zack Miller': 'Never',\n 'Jonas Blixt': 'Never',\n 'Will Claxton': 'Never',\n 'Russell Knox': 'Never',\n 'Louis Oosthuizen': 'Never',\n 'Danny Lee': 'Never',\n 'Bud Cauley': 'Never',\n 'Roberto Castro': 'Never',\n 'S.Y. Noh': 'Never',\n 'Charlie Beljan': 'Never',\n 'Miguel Angel Carballo': 'Never',\n 'Richard Lee': 'Never',\n 'John Huh': 'Never',\n 'Edward Loar': 'Never',\n 'Harris English': 'Never',\n 'Troy Kelly': 'Never',\n 'Erik Compton': 'Never',\n 'Gary Christian': 'Never',\n 'Brian Harman': 'Never',\n 'Scott Brown': 'Never',\n 'Ted Potter, Jr.': 'Never',\n 'Mark Anderson': 'Never',\n 'Jason Kokrak': 'Never',\n 'Ryo Ishikawa': 'Never',\n 'J.J. Killeen': 'Never',\n 'Sangmoon Bae': 'Never',\n 'Billy Hurley III': 'Never',\n 'Tommy Biershenk': 'Never',\n 'Jordan Spieth': 'Never',\n 'Morgan Hoffmann': 'Never',\n 'Aaron Watkins': 'Never',\n 'Russell Henley': 'Never',\n 'D.H. Lee': 'Never',\n 'David Lingmerth': 'Never',\n 'Patrick Reed': 'Never',\n 'Robert Streb': 'Never',\n 'Steve LeBrun': 'Never',\n 'Eric Meierdierks': 'Never',\n 'David Lynn': 'Never',\n 'Lee Williams': 'Never',\n 'Brad Fritsch': 'Never',\n 'Shawn Stefani': 'Never',\n 'Nicolas Colsaerts': 'Never',\n 'Scott Gardiner': 'Never',\n 'Ben Kohles': 'Never',\n 'Derek Ernst': 'Never',\n 'James Hahn': 'Never',\n 'Peter Hanson': 'Never',\n 'Andrew Svoboda': 'Never',\n 'Henrik Norlander': 'Never',\n 'Luke Guthrie': 'Never',\n 'Martin Kaymer': 'Never',\n 'Alistair Presnell': 'Never',\n 'Scott Langley': 'Never',\n 'Luke List': 'Never',\n 'Brooks Koepka': 'Never',\n 'Hideki Matsuyama': 'Never',\n 'Andrew Loupe': 'Never',\n 'Will Wilcox': 'Never',\n \"Bronson La'Cassie\": 'Never',\n 'Jamie Lovemark': 'Never',\n 'Hudson Swafford': 'Never',\n 'Brice Garnett': 'Never',\n 'John Peterson': 'Never',\n 'Wes Roach': 'Never',\n 'Chesson Hadley': 'Never',\n 'Gonzalo Fernandez-Castaño': 'Never',\n 'Tyrone Van Aswegen': 'Never',\n 'Kevin Tway': 'Never',\n 'Francesco Molinari': 'Never',\n 'Tony Finau': 'Never',\n 'Patrick Rodgers': 'Never',\n 'Justin Thomas': 'Never',\n 'Whee Kim': 'Never',\n 'Tom Hoge': 'Never',\n 'Blayne Barber': 'Never',\n 'Daniel Berger': 'Never',\n 'Zac Blair': 'Never',\n 'Jon Curran': 'Never',\n 'Scott Pinckney': 'Never',\n 'Jamie Donaldson': 'Never',\n 'Adam Hadwin': 'Never',\n 'Oscar Fraustro': 'Never',\n 'Jonathan Randolph': 'Never',\n 'Mark Hubbard': 'Never',\n 'Byron Smith': 'Never',\n 'Carlos Ortiz': 'Never',\n 'Roger Sloan': 'Never',\n 'Nick Taylor': 'Never',\n 'Sam Saunders': 'Never',\n 'Sung Joon Park': 'Never',\n 'Max Homa': 'Never',\n 'Andrew Putnam': 'Never',\n 'Branden Grace': 'Never',\n 'Andrew Landry': 'Never',\n 'Kelly Kraft': 'Never',\n 'Si Woo Kim': 'Never',\n 'Emiliano Grillo': 'Never',\n 'Brett Stegmaier': 'Never',\n 'Thomas Aiken': 'Never',\n 'Abraham Ancer': 'Never',\n 'Anirban Lahiri': 'Never',\n 'Shane Lowry': 'Never',\n 'Tyler Aldridge': 'Never',\n 'Rob Oppenheim': 'Never',\n 'Rhein Gibson': 'Never',\n 'Smylie Kaufman': 'Never',\n 'Michael Kim': 'Never',\n 'Dawie van der Walt': 'Never',\n 'Cameron Smith': 'Never',\n 'Bronson Burgoon': 'Never',\n 'Patton Kizzire': 'Never',\n 'Peter Malnati': 'Never',\n 'Harold Varner III': 'Never',\n 'Hiroshi Iwata': 'Never',\n 'Jon Rahm': 2023,\n 'Xander Schauffele': 'Never',\n 'Patrick Cantlay': 'Never',\n 'Trey Mullinax': 2023,\n 'Seamus Power': 'Never',\n 'Brandon Hagy': 2022,\n 'Ryan Blaum': 'Never',\n 'Sebastián Muñoz': 'Never',\n 'Ollie Schniederjans': 'Never',\n 'Julián Etulain': 'Never',\n 'Rafa Cabrera Bello': 'Never',\n 'Brett Drewitt': 'Never',\n 'J.T. Poston': 'Never',\n 'Brian Campbell': 'Never',\n 'Richy Werenski': 'Never',\n 'Byeong Hun An': 'Never',\n 'Ryan Brehm': 'Never',\n 'Rick Lamb': 'Never',\n 'Søren Kjeldsen': 'Never',\n 'J.J. Spaun': 'Never',\n 'Bryson DeChambeau': 2021,\n 'Grayson Murray': 'Never',\n 'Dominic Bozzelli': 'Never',\n 'C.T. Pan': 'Never',\n 'Wesley Bryan': 'Never',\n 'Nicholas Lindheim': 'Never',\n 'Cody Gribble': 'Never',\n 'Mackenzie Hughes': 'Never',\n 'Joel Dahmen': 'Never',\n 'Tommy Fleetwood': 'Never',\n 'Aaron Wise': 'Never',\n 'Tyrrell Hatton': 'Never',\n 'Austin Cook': 'Never',\n 'Alex Noren': 'Never',\n 'Beau Hossler': 'Never',\n 'Sam Ryder': 'Never',\n 'Peter Uihlein': 'Never',\n 'Denny McCarthy': 'Never',\n 'Keith Mitchell': 'Never',\n 'Corey Conners': 'Never',\n 'Kiradech Aphibarnrat': 'Never',\n 'Nate Lashley': 'Never',\n 'Matt Atkins': 'Never',\n 'Lanto Griffin': 'Never',\n 'Conrad Shindler': 'Never',\n 'Stephan Jaeger': 'Never',\n 'Brandon Harkins': 'Never',\n 'Ethan Tracy': 'Never',\n 'Roberto Díaz': 'Never',\n 'Ben Silverman': 'Never',\n 'Talor Gooch': 'Never',\n 'Tom Lovelady': 'Never',\n 'Tyler Duncan': 'Never',\n 'Adam Schenk': 'Never',\n 'Satoshi Kodaira': 'Never',\n 'Zecheng Dou': 'Never',\n 'Xinjun Zhang': 'Never',\n 'Andrew Yun': 'Never',\n 'Joaquin Niemann': 'Never',\n 'Sungjae Im': 'Never',\n 'Dylan Frittelli': 'Never',\n 'Wyndham Clark': 2023,\n 'Sepp Straka': 'Never',\n 'Joey Garber': 'Never',\n 'Adam Svensson': 'Never',\n 'José de Jesús Rodríguez': 'Never',\n ...}"
          },
          "metadata": {}
        }
      ],
      "execution_count": null,
      "metadata": {
        "jupyter": {
          "source_hidden": false,
          "outputs_hidden": false
        },
        "noteable": {
          "cell_type": "code"
        },
        "ExecuteTime": {
          "start_time": "2023-05-31T21:14:36.043543+00:00",
          "end_time": "2023-05-31T21:14:40.123190+00:00"
        }
      },
      "id": "925af489-32b6-4765-bac4-9d8d5b9403b5"
    }
  ],
  "metadata": {
    "noteable-chatgpt": {
      "create_notebook": {
        "openai_conversation_id": "06922a83-18e7-5d79-a968-25a744e5cc2b",
        "openai_ephemeral_user_id": "b8edd402-4a68-56ad-805c-bc10d1ca1930",
        "openai_subdivision1_iso_code": "US-TX"
      }
    },
    "noteable": {
      "last_delta_id": "c9935940-9699-4b28-b31b-7435c3713526"
    },
    "selected_hardware_size": "small",
    "nteract": {
      "version": "noteable@2.9.0"
    }
  },
  "nbformat": 4,
  "nbformat_minor": 5
}